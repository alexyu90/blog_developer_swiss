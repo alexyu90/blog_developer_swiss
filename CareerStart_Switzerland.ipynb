{
 "cells": [
  {
   "cell_type": "markdown",
   "metadata": {},
   "source": [
    "## 0. Introduction\n",
    "\n",
    "As a Python-focused developer starting a career in Switzerland with roughly 2 years of experience (through school & internships), I would like to use the StackOverflow dataset to answer some questions of personal interests.\n",
    "\n",
    "### This analysis aims to answer the following questions:\n",
    "- Career in Switzerland:\n",
    "    - **1. Language**: Is Python a good language to start with as a developer? Answer in terms of Employment, Job Satisfaction, Career Satisfaction and Salary. How does it compare to other popular languages (Javascript, HTML/CSS, SQL, Java)?\n",
    "    - **2. Growth**: How do Career Satisfaction and Salary grow with experience? Python vs. General?\n",
    "- Career in Switzerland vs. in Germany, UK, US: \n",
    "    - **3. Country**: How do Job Satisfaction and Salary of python developers in Switzerland compare to those in Germany, UK, US?\n"
   ]
  },
  {
   "cell_type": "code",
   "execution_count": 833,
   "metadata": {
    "scrolled": true
   },
   "outputs": [
    {
     "data": {
      "text/html": [
       "<div>\n",
       "<style scoped>\n",
       "    .dataframe tbody tr th:only-of-type {\n",
       "        vertical-align: middle;\n",
       "    }\n",
       "\n",
       "    .dataframe tbody tr th {\n",
       "        vertical-align: top;\n",
       "    }\n",
       "\n",
       "    .dataframe thead th {\n",
       "        text-align: right;\n",
       "    }\n",
       "</style>\n",
       "<table border=\"1\" class=\"dataframe\">\n",
       "  <thead>\n",
       "    <tr style=\"text-align: right;\">\n",
       "      <th></th>\n",
       "      <th>Respondent</th>\n",
       "      <th>MainBranch</th>\n",
       "      <th>Hobbyist</th>\n",
       "      <th>OpenSourcer</th>\n",
       "      <th>OpenSource</th>\n",
       "      <th>Employment</th>\n",
       "      <th>Country</th>\n",
       "      <th>Student</th>\n",
       "      <th>EdLevel</th>\n",
       "      <th>UndergradMajor</th>\n",
       "      <th>...</th>\n",
       "      <th>WelcomeChange</th>\n",
       "      <th>SONewContent</th>\n",
       "      <th>Age</th>\n",
       "      <th>Gender</th>\n",
       "      <th>Trans</th>\n",
       "      <th>Sexuality</th>\n",
       "      <th>Ethnicity</th>\n",
       "      <th>Dependents</th>\n",
       "      <th>SurveyLength</th>\n",
       "      <th>SurveyEase</th>\n",
       "    </tr>\n",
       "  </thead>\n",
       "  <tbody>\n",
       "    <tr>\n",
       "      <th>0</th>\n",
       "      <td>1</td>\n",
       "      <td>I am a student who is learning to code</td>\n",
       "      <td>Yes</td>\n",
       "      <td>Never</td>\n",
       "      <td>The quality of OSS and closed source software ...</td>\n",
       "      <td>Not employed, and not looking for work</td>\n",
       "      <td>United Kingdom</td>\n",
       "      <td>No</td>\n",
       "      <td>Primary/elementary school</td>\n",
       "      <td>NaN</td>\n",
       "      <td>...</td>\n",
       "      <td>Just as welcome now as I felt last year</td>\n",
       "      <td>Tech articles written by other developers;Indu...</td>\n",
       "      <td>14.0</td>\n",
       "      <td>Man</td>\n",
       "      <td>No</td>\n",
       "      <td>Straight / Heterosexual</td>\n",
       "      <td>NaN</td>\n",
       "      <td>No</td>\n",
       "      <td>Appropriate in length</td>\n",
       "      <td>Neither easy nor difficult</td>\n",
       "    </tr>\n",
       "    <tr>\n",
       "      <th>1</th>\n",
       "      <td>2</td>\n",
       "      <td>I am a student who is learning to code</td>\n",
       "      <td>No</td>\n",
       "      <td>Less than once per year</td>\n",
       "      <td>The quality of OSS and closed source software ...</td>\n",
       "      <td>Not employed, but looking for work</td>\n",
       "      <td>Bosnia and Herzegovina</td>\n",
       "      <td>Yes, full-time</td>\n",
       "      <td>Secondary school (e.g. American high school, G...</td>\n",
       "      <td>NaN</td>\n",
       "      <td>...</td>\n",
       "      <td>Just as welcome now as I felt last year</td>\n",
       "      <td>Tech articles written by other developers;Indu...</td>\n",
       "      <td>19.0</td>\n",
       "      <td>Man</td>\n",
       "      <td>No</td>\n",
       "      <td>Straight / Heterosexual</td>\n",
       "      <td>NaN</td>\n",
       "      <td>No</td>\n",
       "      <td>Appropriate in length</td>\n",
       "      <td>Neither easy nor difficult</td>\n",
       "    </tr>\n",
       "    <tr>\n",
       "      <th>2</th>\n",
       "      <td>3</td>\n",
       "      <td>I am not primarily a developer, but I write co...</td>\n",
       "      <td>Yes</td>\n",
       "      <td>Never</td>\n",
       "      <td>The quality of OSS and closed source software ...</td>\n",
       "      <td>Employed full-time</td>\n",
       "      <td>Thailand</td>\n",
       "      <td>No</td>\n",
       "      <td>Bachelor’s degree (BA, BS, B.Eng., etc.)</td>\n",
       "      <td>Web development or web design</td>\n",
       "      <td>...</td>\n",
       "      <td>Just as welcome now as I felt last year</td>\n",
       "      <td>Tech meetups or events in your area;Courses on...</td>\n",
       "      <td>28.0</td>\n",
       "      <td>Man</td>\n",
       "      <td>No</td>\n",
       "      <td>Straight / Heterosexual</td>\n",
       "      <td>NaN</td>\n",
       "      <td>Yes</td>\n",
       "      <td>Appropriate in length</td>\n",
       "      <td>Neither easy nor difficult</td>\n",
       "    </tr>\n",
       "    <tr>\n",
       "      <th>3</th>\n",
       "      <td>4</td>\n",
       "      <td>I am a developer by profession</td>\n",
       "      <td>No</td>\n",
       "      <td>Never</td>\n",
       "      <td>The quality of OSS and closed source software ...</td>\n",
       "      <td>Employed full-time</td>\n",
       "      <td>United States</td>\n",
       "      <td>No</td>\n",
       "      <td>Bachelor’s degree (BA, BS, B.Eng., etc.)</td>\n",
       "      <td>Computer science, computer engineering, or sof...</td>\n",
       "      <td>...</td>\n",
       "      <td>Just as welcome now as I felt last year</td>\n",
       "      <td>Tech articles written by other developers;Indu...</td>\n",
       "      <td>22.0</td>\n",
       "      <td>Man</td>\n",
       "      <td>No</td>\n",
       "      <td>Straight / Heterosexual</td>\n",
       "      <td>White or of European descent</td>\n",
       "      <td>No</td>\n",
       "      <td>Appropriate in length</td>\n",
       "      <td>Easy</td>\n",
       "    </tr>\n",
       "    <tr>\n",
       "      <th>4</th>\n",
       "      <td>5</td>\n",
       "      <td>I am a developer by profession</td>\n",
       "      <td>Yes</td>\n",
       "      <td>Once a month or more often</td>\n",
       "      <td>OSS is, on average, of HIGHER quality than pro...</td>\n",
       "      <td>Employed full-time</td>\n",
       "      <td>Ukraine</td>\n",
       "      <td>No</td>\n",
       "      <td>Bachelor’s degree (BA, BS, B.Eng., etc.)</td>\n",
       "      <td>Computer science, computer engineering, or sof...</td>\n",
       "      <td>...</td>\n",
       "      <td>Just as welcome now as I felt last year</td>\n",
       "      <td>Tech meetups or events in your area;Courses on...</td>\n",
       "      <td>30.0</td>\n",
       "      <td>Man</td>\n",
       "      <td>No</td>\n",
       "      <td>Straight / Heterosexual</td>\n",
       "      <td>White or of European descent;Multiracial</td>\n",
       "      <td>No</td>\n",
       "      <td>Appropriate in length</td>\n",
       "      <td>Easy</td>\n",
       "    </tr>\n",
       "  </tbody>\n",
       "</table>\n",
       "<p>5 rows × 85 columns</p>\n",
       "</div>"
      ],
      "text/plain": [
       "   Respondent                                         MainBranch Hobbyist  \\\n",
       "0           1             I am a student who is learning to code      Yes   \n",
       "1           2             I am a student who is learning to code       No   \n",
       "2           3  I am not primarily a developer, but I write co...      Yes   \n",
       "3           4                     I am a developer by profession       No   \n",
       "4           5                     I am a developer by profession      Yes   \n",
       "\n",
       "                  OpenSourcer  \\\n",
       "0                       Never   \n",
       "1     Less than once per year   \n",
       "2                       Never   \n",
       "3                       Never   \n",
       "4  Once a month or more often   \n",
       "\n",
       "                                          OpenSource  \\\n",
       "0  The quality of OSS and closed source software ...   \n",
       "1  The quality of OSS and closed source software ...   \n",
       "2  The quality of OSS and closed source software ...   \n",
       "3  The quality of OSS and closed source software ...   \n",
       "4  OSS is, on average, of HIGHER quality than pro...   \n",
       "\n",
       "                               Employment                 Country  \\\n",
       "0  Not employed, and not looking for work          United Kingdom   \n",
       "1      Not employed, but looking for work  Bosnia and Herzegovina   \n",
       "2                      Employed full-time                Thailand   \n",
       "3                      Employed full-time           United States   \n",
       "4                      Employed full-time                 Ukraine   \n",
       "\n",
       "          Student                                            EdLevel  \\\n",
       "0              No                          Primary/elementary school   \n",
       "1  Yes, full-time  Secondary school (e.g. American high school, G...   \n",
       "2              No           Bachelor’s degree (BA, BS, B.Eng., etc.)   \n",
       "3              No           Bachelor’s degree (BA, BS, B.Eng., etc.)   \n",
       "4              No           Bachelor’s degree (BA, BS, B.Eng., etc.)   \n",
       "\n",
       "                                      UndergradMajor  ...  \\\n",
       "0                                                NaN  ...   \n",
       "1                                                NaN  ...   \n",
       "2                      Web development or web design  ...   \n",
       "3  Computer science, computer engineering, or sof...  ...   \n",
       "4  Computer science, computer engineering, or sof...  ...   \n",
       "\n",
       "                             WelcomeChange  \\\n",
       "0  Just as welcome now as I felt last year   \n",
       "1  Just as welcome now as I felt last year   \n",
       "2  Just as welcome now as I felt last year   \n",
       "3  Just as welcome now as I felt last year   \n",
       "4  Just as welcome now as I felt last year   \n",
       "\n",
       "                                        SONewContent   Age Gender Trans  \\\n",
       "0  Tech articles written by other developers;Indu...  14.0    Man    No   \n",
       "1  Tech articles written by other developers;Indu...  19.0    Man    No   \n",
       "2  Tech meetups or events in your area;Courses on...  28.0    Man    No   \n",
       "3  Tech articles written by other developers;Indu...  22.0    Man    No   \n",
       "4  Tech meetups or events in your area;Courses on...  30.0    Man    No   \n",
       "\n",
       "                 Sexuality                                 Ethnicity  \\\n",
       "0  Straight / Heterosexual                                       NaN   \n",
       "1  Straight / Heterosexual                                       NaN   \n",
       "2  Straight / Heterosexual                                       NaN   \n",
       "3  Straight / Heterosexual              White or of European descent   \n",
       "4  Straight / Heterosexual  White or of European descent;Multiracial   \n",
       "\n",
       "  Dependents           SurveyLength                  SurveyEase  \n",
       "0         No  Appropriate in length  Neither easy nor difficult  \n",
       "1         No  Appropriate in length  Neither easy nor difficult  \n",
       "2        Yes  Appropriate in length  Neither easy nor difficult  \n",
       "3         No  Appropriate in length                        Easy  \n",
       "4         No  Appropriate in length                        Easy  \n",
       "\n",
       "[5 rows x 85 columns]"
      ]
     },
     "execution_count": 833,
     "metadata": {},
     "output_type": "execute_result"
    }
   ],
   "source": [
    "import numpy as np\n",
    "import pandas as pd\n",
    "from sklearn.linear_model import LinearRegression\n",
    "from sklearn.model_selection import train_test_split\n",
    "from sklearn.metrics import r2_score, mean_squared_error\n",
    "import matplotlib.pyplot as plt\n",
    "import seaborn as sns\n",
    "%matplotlib inline\n",
    "plt.rcParams.update({'font.size': 14})\n",
    "\n",
    "df = pd.read_csv('survey_results_public.csv')\n",
    "df.head()"
   ]
  },
  {
   "cell_type": "markdown",
   "metadata": {},
   "source": [
    "## 1. Gather:\n",
    "Here I gather the data that would be used to answer the questions above. \n",
    "\n",
    "**df_s:** For questions 1 & 2, I prepare a dataframe of answers from participants in switzerland, and narrow the colums down to Employment, Job Satisfaction, Career Satisfaction, Languages worked with, Experience & Salary.\n",
    "\n",
    "**df_q3:** For questions 3, I prepare a dataframe of answers from participants in Switzerland, Germany, UK and US, and narrow the columns down to Employment, Country, Career Satisfaction, Experience, Languages worked with & Salary."
   ]
  },
  {
   "cell_type": "code",
   "execution_count": 834,
   "metadata": {
    "scrolled": true
   },
   "outputs": [
    {
     "data": {
      "text/html": [
       "<div>\n",
       "<style scoped>\n",
       "    .dataframe tbody tr th:only-of-type {\n",
       "        vertical-align: middle;\n",
       "    }\n",
       "\n",
       "    .dataframe tbody tr th {\n",
       "        vertical-align: top;\n",
       "    }\n",
       "\n",
       "    .dataframe thead th {\n",
       "        text-align: right;\n",
       "    }\n",
       "</style>\n",
       "<table border=\"1\" class=\"dataframe\">\n",
       "  <thead>\n",
       "    <tr style=\"text-align: right;\">\n",
       "      <th></th>\n",
       "      <th>Employment</th>\n",
       "      <th>JobSat</th>\n",
       "      <th>CareerSat</th>\n",
       "      <th>YearsCodePro</th>\n",
       "      <th>LanguageWorkedWith</th>\n",
       "      <th>ConvertedComp</th>\n",
       "      <th>CompTotal</th>\n",
       "      <th>CompFreq</th>\n",
       "      <th>CurrencySymbol</th>\n",
       "    </tr>\n",
       "  </thead>\n",
       "  <tbody>\n",
       "    <tr>\n",
       "      <th>29</th>\n",
       "      <td>Employed full-time</td>\n",
       "      <td>Slightly dissatisfied</td>\n",
       "      <td>Slightly dissatisfied</td>\n",
       "      <td>3</td>\n",
       "      <td>NaN</td>\n",
       "      <td>90417.0</td>\n",
       "      <td>90000.0</td>\n",
       "      <td>Yearly</td>\n",
       "      <td>CHF</td>\n",
       "    </tr>\n",
       "    <tr>\n",
       "      <th>68</th>\n",
       "      <td>Employed full-time</td>\n",
       "      <td>Slightly satisfied</td>\n",
       "      <td>Neither satisfied nor dissatisfied</td>\n",
       "      <td>2</td>\n",
       "      <td>C#;HTML/CSS;Java;JavaScript;Objective-C;SQL;Ty...</td>\n",
       "      <td>19284.0</td>\n",
       "      <td>1600.0</td>\n",
       "      <td>Monthly</td>\n",
       "      <td>CHF</td>\n",
       "    </tr>\n",
       "    <tr>\n",
       "      <th>422</th>\n",
       "      <td>Employed full-time</td>\n",
       "      <td>Very dissatisfied</td>\n",
       "      <td>Very satisfied</td>\n",
       "      <td>4</td>\n",
       "      <td>C;C++</td>\n",
       "      <td>96445.0</td>\n",
       "      <td>96000.0</td>\n",
       "      <td>Yearly</td>\n",
       "      <td>CHF</td>\n",
       "    </tr>\n",
       "    <tr>\n",
       "      <th>442</th>\n",
       "      <td>Employed full-time</td>\n",
       "      <td>Very satisfied</td>\n",
       "      <td>Very satisfied</td>\n",
       "      <td>8</td>\n",
       "      <td>Bash/Shell/PowerShell;C;C++;HTML/CSS;Python</td>\n",
       "      <td>80371.0</td>\n",
       "      <td>80000.0</td>\n",
       "      <td>Yearly</td>\n",
       "      <td>CHF</td>\n",
       "    </tr>\n",
       "    <tr>\n",
       "      <th>446</th>\n",
       "      <td>Employed full-time</td>\n",
       "      <td>Very satisfied</td>\n",
       "      <td>Very satisfied</td>\n",
       "      <td>12</td>\n",
       "      <td>Bash/Shell/PowerShell;Java;SQL;Other(s):</td>\n",
       "      <td>NaN</td>\n",
       "      <td>NaN</td>\n",
       "      <td>Yearly</td>\n",
       "      <td>CHF</td>\n",
       "    </tr>\n",
       "  </tbody>\n",
       "</table>\n",
       "</div>"
      ],
      "text/plain": [
       "             Employment                 JobSat  \\\n",
       "29   Employed full-time  Slightly dissatisfied   \n",
       "68   Employed full-time     Slightly satisfied   \n",
       "422  Employed full-time      Very dissatisfied   \n",
       "442  Employed full-time         Very satisfied   \n",
       "446  Employed full-time         Very satisfied   \n",
       "\n",
       "                              CareerSat YearsCodePro  \\\n",
       "29                Slightly dissatisfied            3   \n",
       "68   Neither satisfied nor dissatisfied            2   \n",
       "422                      Very satisfied            4   \n",
       "442                      Very satisfied            8   \n",
       "446                      Very satisfied           12   \n",
       "\n",
       "                                    LanguageWorkedWith  ConvertedComp  \\\n",
       "29                                                 NaN        90417.0   \n",
       "68   C#;HTML/CSS;Java;JavaScript;Objective-C;SQL;Ty...        19284.0   \n",
       "422                                              C;C++        96445.0   \n",
       "442        Bash/Shell/PowerShell;C;C++;HTML/CSS;Python        80371.0   \n",
       "446           Bash/Shell/PowerShell;Java;SQL;Other(s):            NaN   \n",
       "\n",
       "     CompTotal CompFreq CurrencySymbol  \n",
       "29     90000.0   Yearly            CHF  \n",
       "68      1600.0  Monthly            CHF  \n",
       "422    96000.0   Yearly            CHF  \n",
       "442    80000.0   Yearly            CHF  \n",
       "446        NaN   Yearly            CHF  "
      ]
     },
     "execution_count": 834,
     "metadata": {},
     "output_type": "execute_result"
    }
   ],
   "source": [
    "df_s = df[df['Country'] == 'Switzerland'][['Employment','JobSat','CareerSat', 'YearsCodePro','LanguageWorkedWith','ConvertedComp','CompTotal','CompFreq','CurrencySymbol']]\n",
    "df_s.head()"
   ]
  },
  {
   "cell_type": "code",
   "execution_count": 835,
   "metadata": {
    "scrolled": true
   },
   "outputs": [
    {
     "data": {
      "text/html": [
       "<div>\n",
       "<style scoped>\n",
       "    .dataframe tbody tr th:only-of-type {\n",
       "        vertical-align: middle;\n",
       "    }\n",
       "\n",
       "    .dataframe tbody tr th {\n",
       "        vertical-align: top;\n",
       "    }\n",
       "\n",
       "    .dataframe thead th {\n",
       "        text-align: right;\n",
       "    }\n",
       "</style>\n",
       "<table border=\"1\" class=\"dataframe\">\n",
       "  <thead>\n",
       "    <tr style=\"text-align: right;\">\n",
       "      <th></th>\n",
       "      <th>Employment</th>\n",
       "      <th>Country</th>\n",
       "      <th>JobSat</th>\n",
       "      <th>YearsCodePro</th>\n",
       "      <th>LanguageWorkedWith</th>\n",
       "      <th>ConvertedComp</th>\n",
       "      <th>CompTotal</th>\n",
       "      <th>CompFreq</th>\n",
       "      <th>CurrencySymbol</th>\n",
       "    </tr>\n",
       "  </thead>\n",
       "  <tbody>\n",
       "    <tr>\n",
       "      <th>0</th>\n",
       "      <td>Not employed, and not looking for work</td>\n",
       "      <td>United Kingdom</td>\n",
       "      <td>NaN</td>\n",
       "      <td>NaN</td>\n",
       "      <td>HTML/CSS;Java;JavaScript;Python</td>\n",
       "      <td>NaN</td>\n",
       "      <td>NaN</td>\n",
       "      <td>NaN</td>\n",
       "      <td>NaN</td>\n",
       "    </tr>\n",
       "    <tr>\n",
       "      <th>3</th>\n",
       "      <td>Employed full-time</td>\n",
       "      <td>United States</td>\n",
       "      <td>Slightly satisfied</td>\n",
       "      <td>Less than 1 year</td>\n",
       "      <td>C;C++;C#;Python;SQL</td>\n",
       "      <td>61000.0</td>\n",
       "      <td>61000.0</td>\n",
       "      <td>Yearly</td>\n",
       "      <td>USD</td>\n",
       "    </tr>\n",
       "    <tr>\n",
       "      <th>12</th>\n",
       "      <td>Employed full-time</td>\n",
       "      <td>United States</td>\n",
       "      <td>Very satisfied</td>\n",
       "      <td>8</td>\n",
       "      <td>Bash/Shell/PowerShell;HTML/CSS;JavaScript;PHP;...</td>\n",
       "      <td>90000.0</td>\n",
       "      <td>90000.0</td>\n",
       "      <td>Yearly</td>\n",
       "      <td>USD</td>\n",
       "    </tr>\n",
       "    <tr>\n",
       "      <th>13</th>\n",
       "      <td>Employed full-time</td>\n",
       "      <td>Germany</td>\n",
       "      <td>Very satisfied</td>\n",
       "      <td>2</td>\n",
       "      <td>C++</td>\n",
       "      <td>57060.0</td>\n",
       "      <td>4150.0</td>\n",
       "      <td>Monthly</td>\n",
       "      <td>EUR</td>\n",
       "    </tr>\n",
       "    <tr>\n",
       "      <th>15</th>\n",
       "      <td>Employed full-time</td>\n",
       "      <td>United Kingdom</td>\n",
       "      <td>Slightly satisfied</td>\n",
       "      <td>3</td>\n",
       "      <td>Bash/Shell/PowerShell;C#;HTML/CSS;JavaScript;T...</td>\n",
       "      <td>455352.0</td>\n",
       "      <td>29000.0</td>\n",
       "      <td>Monthly</td>\n",
       "      <td>GBP</td>\n",
       "    </tr>\n",
       "  </tbody>\n",
       "</table>\n",
       "</div>"
      ],
      "text/plain": [
       "                                Employment         Country  \\\n",
       "0   Not employed, and not looking for work  United Kingdom   \n",
       "3                       Employed full-time   United States   \n",
       "12                      Employed full-time   United States   \n",
       "13                      Employed full-time         Germany   \n",
       "15                      Employed full-time  United Kingdom   \n",
       "\n",
       "                JobSat      YearsCodePro  \\\n",
       "0                  NaN               NaN   \n",
       "3   Slightly satisfied  Less than 1 year   \n",
       "12      Very satisfied                 8   \n",
       "13      Very satisfied                 2   \n",
       "15  Slightly satisfied                 3   \n",
       "\n",
       "                                   LanguageWorkedWith  ConvertedComp  \\\n",
       "0                     HTML/CSS;Java;JavaScript;Python            NaN   \n",
       "3                                 C;C++;C#;Python;SQL        61000.0   \n",
       "12  Bash/Shell/PowerShell;HTML/CSS;JavaScript;PHP;...        90000.0   \n",
       "13                                                C++        57060.0   \n",
       "15  Bash/Shell/PowerShell;C#;HTML/CSS;JavaScript;T...       455352.0   \n",
       "\n",
       "    CompTotal CompFreq CurrencySymbol  \n",
       "0         NaN      NaN            NaN  \n",
       "3     61000.0   Yearly            USD  \n",
       "12    90000.0   Yearly            USD  \n",
       "13     4150.0  Monthly            EUR  \n",
       "15    29000.0  Monthly            GBP  "
      ]
     },
     "execution_count": 835,
     "metadata": {},
     "output_type": "execute_result"
    }
   ],
   "source": [
    "df_q3 = df[df['Country'].isin(['Switzerland','Germany','United States','United Kingdom'])][['Employment','Country','JobSat','YearsCodePro','LanguageWorkedWith','ConvertedComp','CompTotal','CompFreq','CurrencySymbol']]\n",
    "df_q3.head()"
   ]
  },
  {
   "cell_type": "markdown",
   "metadata": {},
   "source": [
    "## 2. Assess\n",
    "First I look at the amount of null values in the dataset to decide on a strategy accordingly. "
   ]
  },
  {
   "cell_type": "code",
   "execution_count": 836,
   "metadata": {
    "scrolled": true
   },
   "outputs": [
    {
     "name": "stdout",
     "output_type": "stream",
     "text": [
      "<class 'pandas.core.frame.DataFrame'>\n",
      "Int64Index: 978 entries, 29 to 88865\n",
      "Data columns (total 9 columns):\n",
      " #   Column              Non-Null Count  Dtype  \n",
      "---  ------              --------------  -----  \n",
      " 0   Employment          962 non-null    object \n",
      " 1   JobSat              811 non-null    object \n",
      " 2   CareerSat           817 non-null    object \n",
      " 3   YearsCodePro        843 non-null    object \n",
      " 4   LanguageWorkedWith  972 non-null    object \n",
      " 5   ConvertedComp       672 non-null    float64\n",
      " 6   CompTotal           672 non-null    float64\n",
      " 7   CompFreq            731 non-null    object \n",
      " 8   CurrencySymbol      811 non-null    object \n",
      "dtypes: float64(2), object(7)\n",
      "memory usage: 76.4+ KB\n"
     ]
    }
   ],
   "source": [
    "df_s.info()"
   ]
  },
  {
   "cell_type": "code",
   "execution_count": 837,
   "metadata": {
    "scrolled": false
   },
   "outputs": [
    {
     "name": "stdout",
     "output_type": "stream",
     "text": [
      "<class 'pandas.core.frame.DataFrame'>\n",
      "Int64Index: 33530 entries, 0 to 88877\n",
      "Data columns (total 9 columns):\n",
      " #   Column              Non-Null Count  Dtype  \n",
      "---  ------              --------------  -----  \n",
      " 0   Employment          33014 non-null  object \n",
      " 1   Country             33530 non-null  object \n",
      " 2   JobSat              28008 non-null  object \n",
      " 3   YearsCodePro        29197 non-null  object \n",
      " 4   LanguageWorkedWith  33262 non-null  object \n",
      " 5   ConvertedComp       23465 non-null  float64\n",
      " 6   CompTotal           23517 non-null  float64\n",
      " 7   CompFreq            25104 non-null  object \n",
      " 8   CurrencySymbol      28100 non-null  object \n",
      "dtypes: float64(2), object(7)\n",
      "memory usage: 2.6+ MB\n"
     ]
    }
   ],
   "source": [
    "df_q3.info()"
   ]
  },
  {
   "cell_type": "markdown",
   "metadata": {},
   "source": [
    "For ConvertedComp (converted annual income in USD), in theory I could fill some of theses missing values by calculating the annual income in USD from their responses in local currency. However, we see that CompTotal and ConvertedComp has the same or similar amount of non-null values, meaning people who filled out their salary in local currency tend to be nice enough to also give a converted annual income in USD. A function calculating the ConvertedComp from other salary parameters will yield 52 new rows at best, therefore, for later analysis related to salary, I will simply drop rows with null ConvertedComp values.\n",
    " \n",
    "Next, I look at the categorical values in the dataset to devise a strategy accordingly."
   ]
  },
  {
   "cell_type": "code",
   "execution_count": 838,
   "metadata": {
    "scrolled": true
   },
   "outputs": [
    {
     "data": {
      "text/plain": [
       "Very satisfied                        345\n",
       "Slightly satisfied                    299\n",
       "Slightly dissatisfied                  74\n",
       "Neither satisfied nor dissatisfied     67\n",
       "Very dissatisfied                      32\n",
       "Name: CareerSat, dtype: int64"
      ]
     },
     "execution_count": 838,
     "metadata": {},
     "output_type": "execute_result"
    }
   ],
   "source": [
    "df_s['CareerSat'].value_counts()"
   ]
  },
  {
   "cell_type": "code",
   "execution_count": 839,
   "metadata": {
    "scrolled": true
   },
   "outputs": [
    {
     "data": {
      "text/plain": [
       "Very satisfied                        290\n",
       "Slightly satisfied                    259\n",
       "Slightly dissatisfied                 119\n",
       "Neither satisfied nor dissatisfied     85\n",
       "Very dissatisfied                      58\n",
       "Name: JobSat, dtype: int64"
      ]
     },
     "execution_count": 839,
     "metadata": {},
     "output_type": "execute_result"
    }
   ],
   "source": [
    "df_s['JobSat'].value_counts()"
   ]
  },
  {
   "cell_type": "markdown",
   "metadata": {},
   "source": [
    "For the two satisfaction columns, I will put them into a scale from -1 to 1 in the next section, so that I can come up with average values for different groups of people."
   ]
  },
  {
   "cell_type": "code",
   "execution_count": 840,
   "metadata": {
    "scrolled": true
   },
   "outputs": [
    {
     "data": {
      "text/plain": [
       "Employed full-time                                      682\n",
       "Employed part-time                                      157\n",
       "Independent contractor, freelancer, or self-employed     59\n",
       "Not employed, and not looking for work                   43\n",
       "Not employed, but looking for work                       15\n",
       "Retired                                                   6\n",
       "Name: Employment, dtype: int64"
      ]
     },
     "execution_count": 840,
     "metadata": {},
     "output_type": "execute_result"
    }
   ],
   "source": [
    "df_s['Employment'].value_counts()"
   ]
  },
  {
   "cell_type": "markdown",
   "metadata": {},
   "source": [
    "For the analysis, I would like to come up with a precentage of developers employed in any form. So, I will create an extra column, which uses a 1 to represent \"Employed full-time\", \"Employed part-time\" and \"Independent contractor, freelancer, or self-employed\" and 0 for the rest."
   ]
  },
  {
   "cell_type": "code",
   "execution_count": 841,
   "metadata": {
    "scrolled": true
   },
   "outputs": [
    {
     "data": {
      "text/plain": [
       "3                     2663\n",
       "2                     2565\n",
       "5                     2345\n",
       "4                     2244\n",
       "10                    1826\n",
       "6                     1727\n",
       "7                     1428\n",
       "8                     1364\n",
       "1                     1359\n",
       "Less than 1 year      1279\n",
       "20                    1083\n",
       "12                     952\n",
       "15                     946\n",
       "9                      778\n",
       "11                     725\n",
       "13                     587\n",
       "18                     551\n",
       "14                     536\n",
       "25                     381\n",
       "16                     374\n",
       "19                     370\n",
       "22                     351\n",
       "30                     319\n",
       "17                     304\n",
       "21                     284\n",
       "23                     242\n",
       "24                     175\n",
       "35                     154\n",
       "26                     130\n",
       "28                     127\n",
       "27                     126\n",
       "32                     116\n",
       "33                      96\n",
       "40                      84\n",
       "29                      83\n",
       "34                      79\n",
       "31                      73\n",
       "36                      70\n",
       "38                      66\n",
       "37                      50\n",
       "39                      42\n",
       "42                      25\n",
       "More than 50 years      22\n",
       "41                      20\n",
       "45                      20\n",
       "43                      19\n",
       "44                      11\n",
       "48                       8\n",
       "50                       6\n",
       "47                       6\n",
       "46                       3\n",
       "49                       3\n",
       "Name: YearsCodePro, dtype: int64"
      ]
     },
     "execution_count": 841,
     "metadata": {},
     "output_type": "execute_result"
    }
   ],
   "source": [
    "df_q3['YearsCodePro'].value_counts()"
   ]
  },
  {
   "cell_type": "markdown",
   "metadata": {},
   "source": [
    "We see two strings among the answers. As I would like to use this column as qualitative data, I will replace \"Less than 1 year\" with 0, and simply remove the rows with 'More than 50 year' given the low proportion.\n",
    "\n",
    "Lastly, I will create a new column to indicate if the developer lists Python in the languages he/she has extensive experience in, since this analysis has a Python focus."
   ]
  },
  {
   "cell_type": "markdown",
   "metadata": {},
   "source": [
    "## 3. Clean\n",
    "\n",
    "For both datasets I will: \n",
    "- change CareerSat to -1 to 1 values\n",
    "- drop columns: \"CompTotal\",\"CompFreq\",\"CurrencySymbol\"\n",
    "\n",
    "For **df_s** I will also: \n",
    "- change JobSat to -1 to 1 values\n",
    "- create new column \"Employed\"\n",
    "- create new column \"Python\"\n",
    "\n",
    "For **df_q3** I will also: \n",
    "- only keep rows where \"LanguageWorkedWith\" contains \"Python\"\n",
    "- only keep rows where \"Employment\" == \"Employed full-time\""
   ]
  },
  {
   "cell_type": "code",
   "execution_count": 842,
   "metadata": {},
   "outputs": [
    {
     "data": {
      "text/html": [
       "<div>\n",
       "<style scoped>\n",
       "    .dataframe tbody tr th:only-of-type {\n",
       "        vertical-align: middle;\n",
       "    }\n",
       "\n",
       "    .dataframe tbody tr th {\n",
       "        vertical-align: top;\n",
       "    }\n",
       "\n",
       "    .dataframe thead th {\n",
       "        text-align: right;\n",
       "    }\n",
       "</style>\n",
       "<table border=\"1\" class=\"dataframe\">\n",
       "  <thead>\n",
       "    <tr style=\"text-align: right;\">\n",
       "      <th></th>\n",
       "      <th>Employment</th>\n",
       "      <th>JobSat</th>\n",
       "      <th>CareerSat</th>\n",
       "      <th>YearsCodePro</th>\n",
       "      <th>LanguageWorkedWith</th>\n",
       "      <th>ConvertedComp</th>\n",
       "      <th>Employed</th>\n",
       "      <th>Python</th>\n",
       "    </tr>\n",
       "  </thead>\n",
       "  <tbody>\n",
       "    <tr>\n",
       "      <th>29</th>\n",
       "      <td>Employed full-time</td>\n",
       "      <td>-0.5</td>\n",
       "      <td>-0.5</td>\n",
       "      <td>3</td>\n",
       "      <td>NaN</td>\n",
       "      <td>90417.0</td>\n",
       "      <td>1.0</td>\n",
       "      <td>NaN</td>\n",
       "    </tr>\n",
       "    <tr>\n",
       "      <th>68</th>\n",
       "      <td>Employed full-time</td>\n",
       "      <td>0.5</td>\n",
       "      <td>0.0</td>\n",
       "      <td>2</td>\n",
       "      <td>C#;HTML/CSS;Java;JavaScript;Objective-C;SQL;Ty...</td>\n",
       "      <td>19284.0</td>\n",
       "      <td>1.0</td>\n",
       "      <td>False</td>\n",
       "    </tr>\n",
       "    <tr>\n",
       "      <th>422</th>\n",
       "      <td>Employed full-time</td>\n",
       "      <td>-1.0</td>\n",
       "      <td>1.0</td>\n",
       "      <td>4</td>\n",
       "      <td>C;C++</td>\n",
       "      <td>96445.0</td>\n",
       "      <td>1.0</td>\n",
       "      <td>False</td>\n",
       "    </tr>\n",
       "    <tr>\n",
       "      <th>442</th>\n",
       "      <td>Employed full-time</td>\n",
       "      <td>1.0</td>\n",
       "      <td>1.0</td>\n",
       "      <td>8</td>\n",
       "      <td>Bash/Shell/PowerShell;C;C++;HTML/CSS;Python</td>\n",
       "      <td>80371.0</td>\n",
       "      <td>1.0</td>\n",
       "      <td>True</td>\n",
       "    </tr>\n",
       "    <tr>\n",
       "      <th>446</th>\n",
       "      <td>Employed full-time</td>\n",
       "      <td>1.0</td>\n",
       "      <td>1.0</td>\n",
       "      <td>12</td>\n",
       "      <td>Bash/Shell/PowerShell;Java;SQL;Other(s):</td>\n",
       "      <td>NaN</td>\n",
       "      <td>1.0</td>\n",
       "      <td>False</td>\n",
       "    </tr>\n",
       "  </tbody>\n",
       "</table>\n",
       "</div>"
      ],
      "text/plain": [
       "             Employment  JobSat  CareerSat YearsCodePro  \\\n",
       "29   Employed full-time    -0.5       -0.5            3   \n",
       "68   Employed full-time     0.5        0.0            2   \n",
       "422  Employed full-time    -1.0        1.0            4   \n",
       "442  Employed full-time     1.0        1.0            8   \n",
       "446  Employed full-time     1.0        1.0           12   \n",
       "\n",
       "                                    LanguageWorkedWith  ConvertedComp  \\\n",
       "29                                                 NaN        90417.0   \n",
       "68   C#;HTML/CSS;Java;JavaScript;Objective-C;SQL;Ty...        19284.0   \n",
       "422                                              C;C++        96445.0   \n",
       "442        Bash/Shell/PowerShell;C;C++;HTML/CSS;Python        80371.0   \n",
       "446           Bash/Shell/PowerShell;Java;SQL;Other(s):            NaN   \n",
       "\n",
       "     Employed Python  \n",
       "29        1.0    NaN  \n",
       "68        1.0  False  \n",
       "422       1.0  False  \n",
       "442       1.0   True  \n",
       "446       1.0  False  "
      ]
     },
     "execution_count": 842,
     "metadata": {},
     "output_type": "execute_result"
    }
   ],
   "source": [
    "Sat_dic = {\"Very satisfied\" : 1,\n",
    "           \"Slightly satisfied\" : 0.5,\n",
    "           \"Neither satisfied nor dissatisfied\": 0,\n",
    "           \"Slightly dissatisfied\": -0.5,\n",
    "           \"Very dissatisfied\": -1}\n",
    "\n",
    "Emp_dic = {\"Employed full-time\" : 1,\n",
    "           \"Employed part-time\" : 1,\n",
    "           \"Independent contractor, freelancer, or self-employed\" : 1,\n",
    "           \"Not employed, and not looking for work\" : 0,\n",
    "           \"Not employed, but looking for work\" : 0,\n",
    "           \"Retired\" : 0}\n",
    "\n",
    "def common_clean(df):\n",
    "    df = df.replace({\"JobSat\": Sat_dic})\n",
    "    df = df.drop(columns=['CompTotal','CompFreq','CurrencySymbol'])\n",
    "\n",
    "    return df\n",
    "\n",
    "df_s = common_clean(df_s)\n",
    "df_s = df_s.replace({\"CareerSat\": Sat_dic})\n",
    "df_s['Employed'] = df_s['Employment'].map(Emp_dic)\n",
    "df_s['Python'] = df_s['LanguageWorkedWith'].str.contains('Python')\n",
    "df_s.head()"
   ]
  },
  {
   "cell_type": "code",
   "execution_count": 843,
   "metadata": {
    "scrolled": true
   },
   "outputs": [
    {
     "data": {
      "text/html": [
       "<div>\n",
       "<style scoped>\n",
       "    .dataframe tbody tr th:only-of-type {\n",
       "        vertical-align: middle;\n",
       "    }\n",
       "\n",
       "    .dataframe tbody tr th {\n",
       "        vertical-align: top;\n",
       "    }\n",
       "\n",
       "    .dataframe thead th {\n",
       "        text-align: right;\n",
       "    }\n",
       "</style>\n",
       "<table border=\"1\" class=\"dataframe\">\n",
       "  <thead>\n",
       "    <tr style=\"text-align: right;\">\n",
       "      <th></th>\n",
       "      <th>Employment</th>\n",
       "      <th>Country</th>\n",
       "      <th>JobSat</th>\n",
       "      <th>YearsCodePro</th>\n",
       "      <th>LanguageWorkedWith</th>\n",
       "      <th>ConvertedComp</th>\n",
       "    </tr>\n",
       "  </thead>\n",
       "  <tbody>\n",
       "    <tr>\n",
       "      <th>18412</th>\n",
       "      <td>Employed full-time</td>\n",
       "      <td>Germany</td>\n",
       "      <td>0.5</td>\n",
       "      <td>1</td>\n",
       "      <td>C#;Java;JavaScript;Python;TypeScript</td>\n",
       "      <td>10308.0</td>\n",
       "    </tr>\n",
       "    <tr>\n",
       "      <th>80927</th>\n",
       "      <td>Employed full-time</td>\n",
       "      <td>United States</td>\n",
       "      <td>1.0</td>\n",
       "      <td>15</td>\n",
       "      <td>Bash/Shell/PowerShell;Python;VBA</td>\n",
       "      <td>100000.0</td>\n",
       "    </tr>\n",
       "    <tr>\n",
       "      <th>73348</th>\n",
       "      <td>Employed full-time</td>\n",
       "      <td>United States</td>\n",
       "      <td>0.5</td>\n",
       "      <td>18</td>\n",
       "      <td>Bash/Shell/PowerShell;HTML/CSS;JavaScript;Pyth...</td>\n",
       "      <td>NaN</td>\n",
       "    </tr>\n",
       "    <tr>\n",
       "      <th>48770</th>\n",
       "      <td>Employed full-time</td>\n",
       "      <td>United States</td>\n",
       "      <td>0.5</td>\n",
       "      <td>Less than 1 year</td>\n",
       "      <td>Bash/Shell/PowerShell;HTML/CSS;Java;JavaScript...</td>\n",
       "      <td>NaN</td>\n",
       "    </tr>\n",
       "    <tr>\n",
       "      <th>29869</th>\n",
       "      <td>Employed full-time</td>\n",
       "      <td>Germany</td>\n",
       "      <td>-0.5</td>\n",
       "      <td>12</td>\n",
       "      <td>C++;Elixir;Go;JavaScript;Python;Rust</td>\n",
       "      <td>74474.0</td>\n",
       "    </tr>\n",
       "  </tbody>\n",
       "</table>\n",
       "</div>"
      ],
      "text/plain": [
       "               Employment        Country  JobSat      YearsCodePro  \\\n",
       "18412  Employed full-time        Germany     0.5                 1   \n",
       "80927  Employed full-time  United States     1.0                15   \n",
       "73348  Employed full-time  United States     0.5                18   \n",
       "48770  Employed full-time  United States     0.5  Less than 1 year   \n",
       "29869  Employed full-time        Germany    -0.5                12   \n",
       "\n",
       "                                      LanguageWorkedWith  ConvertedComp  \n",
       "18412               C#;Java;JavaScript;Python;TypeScript        10308.0  \n",
       "80927                   Bash/Shell/PowerShell;Python;VBA       100000.0  \n",
       "73348  Bash/Shell/PowerShell;HTML/CSS;JavaScript;Pyth...            NaN  \n",
       "48770  Bash/Shell/PowerShell;HTML/CSS;Java;JavaScript...            NaN  \n",
       "29869               C++;Elixir;Go;JavaScript;Python;Rust        74474.0  "
      ]
     },
     "execution_count": 843,
     "metadata": {},
     "output_type": "execute_result"
    }
   ],
   "source": [
    "df_q3 = common_clean(df_q3)\n",
    "df_q3 = df_q3[df_q3['Employment'] == \"Employed full-time\"]\n",
    "\n",
    "def select_lan(df,string):\n",
    "    return df[df['LanguageWorkedWith'].str.contains(string)]\n",
    "\n",
    "df_q3 = select_lan(df_q3.dropna(subset=['LanguageWorkedWith']),'Python')\n",
    "df_q3.sample(5)"
   ]
  },
  {
   "cell_type": "markdown",
   "metadata": {},
   "source": [
    "## 4. Analyze,  Model, and Visualize\n",
    "\n",
    "#### 4.1.1  Is Python a good language to start with as a developer? Answer in terms of Employment, Job Satisfaction, Career Satisfaction and Salary."
   ]
  },
  {
   "cell_type": "code",
   "execution_count": 844,
   "metadata": {
    "scrolled": true
   },
   "outputs": [
    {
     "data": {
      "text/html": [
       "<div>\n",
       "<style scoped>\n",
       "    .dataframe tbody tr th:only-of-type {\n",
       "        vertical-align: middle;\n",
       "    }\n",
       "\n",
       "    .dataframe tbody tr th {\n",
       "        vertical-align: top;\n",
       "    }\n",
       "\n",
       "    .dataframe thead th {\n",
       "        text-align: right;\n",
       "    }\n",
       "</style>\n",
       "<table border=\"1\" class=\"dataframe\">\n",
       "  <thead>\n",
       "    <tr style=\"text-align: right;\">\n",
       "      <th></th>\n",
       "      <th>JobSat</th>\n",
       "      <th>CareerSat</th>\n",
       "      <th>ConvertedComp</th>\n",
       "      <th>Employed</th>\n",
       "    </tr>\n",
       "  </thead>\n",
       "  <tbody>\n",
       "    <tr>\n",
       "      <th>count</th>\n",
       "      <td>385.000000</td>\n",
       "      <td>387.000000</td>\n",
       "      <td>3.180000e+02</td>\n",
       "      <td>452.000000</td>\n",
       "    </tr>\n",
       "    <tr>\n",
       "      <th>mean</th>\n",
       "      <td>0.364935</td>\n",
       "      <td>0.527132</td>\n",
       "      <td>1.682545e+05</td>\n",
       "      <td>0.920354</td>\n",
       "    </tr>\n",
       "    <tr>\n",
       "      <th>std</th>\n",
       "      <td>0.654465</td>\n",
       "      <td>0.552819</td>\n",
       "      <td>2.587817e+05</td>\n",
       "      <td>0.271044</td>\n",
       "    </tr>\n",
       "    <tr>\n",
       "      <th>min</th>\n",
       "      <td>-1.000000</td>\n",
       "      <td>-1.000000</td>\n",
       "      <td>1.850000e+02</td>\n",
       "      <td>0.000000</td>\n",
       "    </tr>\n",
       "    <tr>\n",
       "      <th>25%</th>\n",
       "      <td>0.000000</td>\n",
       "      <td>0.500000</td>\n",
       "      <td>6.800125e+04</td>\n",
       "      <td>1.000000</td>\n",
       "    </tr>\n",
       "    <tr>\n",
       "      <th>50%</th>\n",
       "      <td>0.500000</td>\n",
       "      <td>0.500000</td>\n",
       "      <td>9.092050e+04</td>\n",
       "      <td>1.000000</td>\n",
       "    </tr>\n",
       "    <tr>\n",
       "      <th>75%</th>\n",
       "      <td>1.000000</td>\n",
       "      <td>1.000000</td>\n",
       "      <td>1.205560e+05</td>\n",
       "      <td>1.000000</td>\n",
       "    </tr>\n",
       "    <tr>\n",
       "      <th>max</th>\n",
       "      <td>1.000000</td>\n",
       "      <td>1.000000</td>\n",
       "      <td>2.000000e+06</td>\n",
       "      <td>1.000000</td>\n",
       "    </tr>\n",
       "  </tbody>\n",
       "</table>\n",
       "</div>"
      ],
      "text/plain": [
       "           JobSat   CareerSat  ConvertedComp    Employed\n",
       "count  385.000000  387.000000   3.180000e+02  452.000000\n",
       "mean     0.364935    0.527132   1.682545e+05    0.920354\n",
       "std      0.654465    0.552819   2.587817e+05    0.271044\n",
       "min     -1.000000   -1.000000   1.850000e+02    0.000000\n",
       "25%      0.000000    0.500000   6.800125e+04    1.000000\n",
       "50%      0.500000    0.500000   9.092050e+04    1.000000\n",
       "75%      1.000000    1.000000   1.205560e+05    1.000000\n",
       "max      1.000000    1.000000   2.000000e+06    1.000000"
      ]
     },
     "execution_count": 844,
     "metadata": {},
     "output_type": "execute_result"
    }
   ],
   "source": [
    "df_s[df_s['Python'] == True].describe()"
   ]
  },
  {
   "cell_type": "code",
   "execution_count": 845,
   "metadata": {},
   "outputs": [
    {
     "name": "stderr",
     "output_type": "stream",
     "text": [
      "/Users/alex/anaconda3/lib/python3.6/site-packages/ipykernel_launcher.py:1: UserWarning: Boolean Series key will be reindexed to match DataFrame index.\n",
      "  \"\"\"Entry point for launching an IPython kernel.\n"
     ]
    },
    {
     "data": {
      "text/plain": [
       "0.7594654788418709"
      ]
     },
     "execution_count": 845,
     "metadata": {},
     "output_type": "execute_result"
    }
   ],
   "source": [
    "df_s[df_s['Employed'] == True][df_s['Employment'] == \"Employed full-time\"].shape[0]/df_s[df_s['Employed'] == True].shape[0]"
   ]
  },
  {
   "cell_type": "code",
   "execution_count": 1004,
   "metadata": {},
   "outputs": [
    {
     "name": "stderr",
     "output_type": "stream",
     "text": [
      "/Users/alex/anaconda3/lib/python3.6/site-packages/ipykernel_launcher.py:1: UserWarning: Boolean Series key will be reindexed to match DataFrame index.\n",
      "  \"\"\"Entry point for launching an IPython kernel.\n"
     ]
    },
    {
     "data": {
      "text/plain": [
       "0.17483296213808464"
      ]
     },
     "execution_count": 1004,
     "metadata": {},
     "output_type": "execute_result"
    }
   ],
   "source": [
    "df_s[df_s['Employed'] == True][df_s['Employment'] == \"Employed part-time\"].shape[0]/df_s[df_s['Employed'] == True].shape[0]"
   ]
  },
  {
   "cell_type": "code",
   "execution_count": 846,
   "metadata": {
    "scrolled": true
   },
   "outputs": [
    {
     "data": {
      "text/plain": [
       "0.6584867075664622"
      ]
     },
     "execution_count": 846,
     "metadata": {},
     "output_type": "execute_result"
    }
   ],
   "source": [
    "df_s[df_s['CareerSat'] > 0].shape[0]/df_s.shape[0]"
   ]
  },
  {
   "cell_type": "code",
   "execution_count": 847,
   "metadata": {
    "scrolled": true
   },
   "outputs": [
    {
     "data": {
      "text/plain": [
       "0.5613496932515337"
      ]
     },
     "execution_count": 847,
     "metadata": {},
     "output_type": "execute_result"
    }
   ],
   "source": [
    "df_s[df_s['JobSat'] > 0].shape[0]/df_s.shape[0]"
   ]
  },
  {
   "cell_type": "code",
   "execution_count": 1005,
   "metadata": {},
   "outputs": [
    {
     "data": {
      "text/plain": [
       "0.1083844580777096"
      ]
     },
     "execution_count": 1005,
     "metadata": {},
     "output_type": "execute_result"
    }
   ],
   "source": [
    "df_s[df_s['CareerSat'] < 0].shape[0]/df_s.shape[0]"
   ]
  },
  {
   "cell_type": "code",
   "execution_count": 1006,
   "metadata": {},
   "outputs": [
    {
     "data": {
      "text/plain": [
       "0.18098159509202455"
      ]
     },
     "execution_count": 1006,
     "metadata": {},
     "output_type": "execute_result"
    }
   ],
   "source": [
    "df_s[df_s['JobSat'] < 0].shape[0]/df_s.shape[0]"
   ]
  },
  {
   "cell_type": "markdown",
   "metadata": {},
   "source": [
    "In switzerland, the eployment rate of a developer with extensive Python experience is **92%**. Out of the employed developers, **76%** percent are employed full-time.\n",
    "\n",
    "We see that the average Job Satisfaction is **0.365**, roughly corresponding to \"Slightly satisfied\". The average Career Satisfaction is **0.527**, corresponding to \"Slightly satisfied\". **66%** of the respondants are satisfied with their career and **56%** are satiesfied with their jobs. \n",
    "\n",
    "We see that for the ConvertedComp the mean is higher than the 75% value, indicating that there are some bogus values around the max."
   ]
  },
  {
   "cell_type": "code",
   "execution_count": 848,
   "metadata": {
    "scrolled": false
   },
   "outputs": [
    {
     "name": "stderr",
     "output_type": "stream",
     "text": [
      "/Users/alex/anaconda3/lib/python3.6/site-packages/scipy/stats/stats.py:1713: FutureWarning: Using a non-tuple sequence for multidimensional indexing is deprecated; use `arr[tuple(seq)]` instead of `arr[seq]`. In the future this will be interpreted as an array index, `arr[np.array(seq)]`, which will result either in an error or a different result.\n",
      "  return np.add.reduce(sorted[indexer] * weights, axis=axis) / sumval\n"
     ]
    },
    {
     "data": {
      "image/png": "[encoded data removed]",
      "text/plain": [
       "<Figure size 432x288 with 1 Axes>"
      ]
     },
     "metadata": {},
     "output_type": "display_data"
    }
   ],
   "source": [
    "sns.distplot(df_s['ConvertedComp'].dropna());"
   ]
  },
  {
   "cell_type": "markdown",
   "metadata": {},
   "source": [
    "I will put a cap at 500'000 for salary calculation."
   ]
  },
  {
   "cell_type": "code",
   "execution_count": 849,
   "metadata": {},
   "outputs": [
    {
     "name": "stderr",
     "output_type": "stream",
     "text": [
      "/Users/alex/anaconda3/lib/python3.6/site-packages/ipykernel_launcher.py:1: UserWarning: Boolean Series key will be reindexed to match DataFrame index.\n",
      "  \"\"\"Entry point for launching an IPython kernel.\n"
     ]
    },
    {
     "data": {
      "text/plain": [
       "count       219.000000\n",
       "mean     100147.223744\n",
       "std       51379.310678\n",
       "min         185.000000\n",
       "25%       72485.500000\n",
       "50%       90420.000000\n",
       "75%      115030.500000\n",
       "max      414913.000000\n",
       "Name: ConvertedComp, dtype: float64"
      ]
     },
     "execution_count": 849,
     "metadata": {},
     "output_type": "execute_result"
    }
   ],
   "source": [
    "df_s[df_s['ConvertedComp'] < 500000][df_s['Python'] == True][df_s['Employment'] == 'Employed full-time'].describe()['ConvertedComp']"
   ]
  },
  {
   "cell_type": "markdown",
   "metadata": {},
   "source": [
    "Here, we see that the average annual salary of full-time employed developers who listed Python as a language they have extensive experiences in is around **100k USD**.\n",
    "\n",
    "#### 4.1.2 How does it compare to other popular languages (Javascript, HTML/CSS, SQL, Java)?\n",
    "To visualize this, I first create a dataframe with these columns: \"Language\", \"MeanJobSat\", \"MeanCareerSat\", \"EmploymentRate\", \"MeanSalary\"."
   ]
  },
  {
   "cell_type": "code",
   "execution_count": 850,
   "metadata": {
    "scrolled": true
   },
   "outputs": [
    {
     "data": {
      "text/html": [
       "<div>\n",
       "<style scoped>\n",
       "    .dataframe tbody tr th:only-of-type {\n",
       "        vertical-align: middle;\n",
       "    }\n",
       "\n",
       "    .dataframe tbody tr th {\n",
       "        vertical-align: top;\n",
       "    }\n",
       "\n",
       "    .dataframe thead th {\n",
       "        text-align: right;\n",
       "    }\n",
       "</style>\n",
       "<table border=\"1\" class=\"dataframe\">\n",
       "  <thead>\n",
       "    <tr style=\"text-align: right;\">\n",
       "      <th></th>\n",
       "      <th>MeanJobSat</th>\n",
       "      <th>MeanCareerSat</th>\n",
       "      <th>EmploymentRate</th>\n",
       "      <th>MeanSalary</th>\n",
       "    </tr>\n",
       "  </thead>\n",
       "  <tbody>\n",
       "    <tr>\n",
       "      <th>JavaScript</th>\n",
       "      <td>NaN</td>\n",
       "      <td>NaN</td>\n",
       "      <td>NaN</td>\n",
       "      <td>NaN</td>\n",
       "    </tr>\n",
       "    <tr>\n",
       "      <th>HTML/CSS</th>\n",
       "      <td>NaN</td>\n",
       "      <td>NaN</td>\n",
       "      <td>NaN</td>\n",
       "      <td>NaN</td>\n",
       "    </tr>\n",
       "    <tr>\n",
       "      <th>SQL</th>\n",
       "      <td>NaN</td>\n",
       "      <td>NaN</td>\n",
       "      <td>NaN</td>\n",
       "      <td>NaN</td>\n",
       "    </tr>\n",
       "    <tr>\n",
       "      <th>Java</th>\n",
       "      <td>NaN</td>\n",
       "      <td>NaN</td>\n",
       "      <td>NaN</td>\n",
       "      <td>NaN</td>\n",
       "    </tr>\n",
       "    <tr>\n",
       "      <th>Python</th>\n",
       "      <td>NaN</td>\n",
       "      <td>NaN</td>\n",
       "      <td>NaN</td>\n",
       "      <td>NaN</td>\n",
       "    </tr>\n",
       "  </tbody>\n",
       "</table>\n",
       "</div>"
      ],
      "text/plain": [
       "           MeanJobSat MeanCareerSat EmploymentRate MeanSalary\n",
       "JavaScript        NaN           NaN            NaN        NaN\n",
       "HTML/CSS          NaN           NaN            NaN        NaN\n",
       "SQL               NaN           NaN            NaN        NaN\n",
       "Java              NaN           NaN            NaN        NaN\n",
       "Python            NaN           NaN            NaN        NaN"
      ]
     },
     "execution_count": 850,
     "metadata": {},
     "output_type": "execute_result"
    }
   ],
   "source": [
    "language_list = ['JavaScript', 'HTML/CSS', 'SQL', 'Java','Python']\n",
    "columns = ['MeanJobSat','MeanCareerSat','EmploymentRate','MeanSalary']\n",
    "\n",
    "df_lan = pd.DataFrame(index = language_list, columns=columns)\n",
    "#df_lan['Language'] = language_list\n",
    "df_lan"
   ]
  },
  {
   "cell_type": "code",
   "execution_count": 851,
   "metadata": {
    "scrolled": true
   },
   "outputs": [
    {
     "name": "stderr",
     "output_type": "stream",
     "text": [
      "/Users/alex/anaconda3/lib/python3.6/site-packages/ipykernel_launcher.py:6: UserWarning: Boolean Series key will be reindexed to match DataFrame index.\n",
      "  \n"
     ]
    },
    {
     "data": {
      "text/html": [
       "<div>\n",
       "<style scoped>\n",
       "    .dataframe tbody tr th:only-of-type {\n",
       "        vertical-align: middle;\n",
       "    }\n",
       "\n",
       "    .dataframe tbody tr th {\n",
       "        vertical-align: top;\n",
       "    }\n",
       "\n",
       "    .dataframe thead th {\n",
       "        text-align: right;\n",
       "    }\n",
       "</style>\n",
       "<table border=\"1\" class=\"dataframe\">\n",
       "  <thead>\n",
       "    <tr style=\"text-align: right;\">\n",
       "      <th></th>\n",
       "      <th>MeanJobSat</th>\n",
       "      <th>MeanCareerSat</th>\n",
       "      <th>EmploymentRate</th>\n",
       "      <th>MeanSalary</th>\n",
       "    </tr>\n",
       "  </thead>\n",
       "  <tbody>\n",
       "    <tr>\n",
       "      <th>JavaScript</th>\n",
       "      <td>0.366928</td>\n",
       "      <td>0.52233</td>\n",
       "      <td>0.940496</td>\n",
       "      <td>90369.1</td>\n",
       "    </tr>\n",
       "    <tr>\n",
       "      <th>HTML/CSS</th>\n",
       "      <td>0.385859</td>\n",
       "      <td>0.53507</td>\n",
       "      <td>0.940778</td>\n",
       "      <td>91064.2</td>\n",
       "    </tr>\n",
       "    <tr>\n",
       "      <th>SQL</th>\n",
       "      <td>0.354651</td>\n",
       "      <td>0.534642</td>\n",
       "      <td>0.958167</td>\n",
       "      <td>93290.1</td>\n",
       "    </tr>\n",
       "    <tr>\n",
       "      <th>Java</th>\n",
       "      <td>0.3672</td>\n",
       "      <td>0.527027</td>\n",
       "      <td>0.933066</td>\n",
       "      <td>93587</td>\n",
       "    </tr>\n",
       "    <tr>\n",
       "      <th>Python</th>\n",
       "      <td>0.364935</td>\n",
       "      <td>0.527132</td>\n",
       "      <td>0.920354</td>\n",
       "      <td>100147</td>\n",
       "    </tr>\n",
       "  </tbody>\n",
       "</table>\n",
       "</div>"
      ],
      "text/plain": [
       "           MeanJobSat MeanCareerSat EmploymentRate MeanSalary\n",
       "JavaScript   0.366928       0.52233       0.940496    90369.1\n",
       "HTML/CSS     0.385859       0.53507       0.940778    91064.2\n",
       "SQL          0.354651      0.534642       0.958167    93290.1\n",
       "Java           0.3672      0.527027       0.933066      93587\n",
       "Python       0.364935      0.527132       0.920354     100147"
      ]
     },
     "execution_count": 851,
     "metadata": {},
     "output_type": "execute_result"
    }
   ],
   "source": [
    "for index, row in df_lan.iterrows():\n",
    "    df_temp = select_lan(df_s.dropna(subset=['LanguageWorkedWith']),index)\n",
    "    row['MeanJobSat'] = df_temp['JobSat'].mean()\n",
    "    row['MeanCareerSat'] = df_temp['CareerSat'].mean()\n",
    "    row['EmploymentRate'] = df_temp['Employed'].mean()\n",
    "    row['MeanSalary'] = df_temp[df_temp['ConvertedComp'] < 500000][df_s['Employment'] == 'Employed full-time']['ConvertedComp'].mean()\n",
    "\n",
    "df_lan"
   ]
  },
  {
   "cell_type": "code",
   "execution_count": 1013,
   "metadata": {},
   "outputs": [
    {
     "data": {
      "image/png": "[encoded data removed]",
      "text/plain": [
       "<Figure size 864x432 with 4 Axes>"
      ]
     },
     "metadata": {},
     "output_type": "display_data"
    }
   ],
   "source": [
    "clrs = ['red' if (x == 'Python') else 'grey' for x in df_lan.index.values]\n",
    "\n",
    "f, axes = plt.subplots(2, 2, figsize=(12, 6))\n",
    "\n",
    "chart1 = sns.barplot(df_lan.index.values, df_lan['MeanJobSat'], palette=clrs, ax=axes[0, 0])\n",
    "chart1.set_xticklabels(chart1.get_xticklabels(), rotation=15);\n",
    "chart1.set_ylabel('Very Satisfied = 1')\n",
    "chart1.set_title('Average Job Satisfaction');\n",
    "chart1.set(ylim=(-1, 1))\n",
    "chart1.axhline(0, color = 'black')\n",
    "for i in range(5):\n",
    "    chart1.text(x = np.arange(5)[i]-0.2, y = df_lan['MeanJobSat'][i] + 0.02, s = round(df_lan['MeanJobSat'][i],2), size = 14, color = 'black')\n",
    "\n",
    "chart2 = sns.barplot(df_lan.index.values, df_lan['MeanCareerSat'], palette=clrs, ax=axes[0, 1])\n",
    "chart2.set_xticklabels(chart2.get_xticklabels(), rotation=15);\n",
    "chart2.set_ylabel('Very Unsatisfied = -1')\n",
    "chart2.set_title('Average Career Satisfaction');\n",
    "chart2.set(ylim=(-1, 1))\n",
    "chart2.axhline(0, color = 'black')\n",
    "for i in range(5):\n",
    "    chart2.text(x = np.arange(5)[i]-0.2, y = df_lan['MeanCareerSat'][i] + 0.02, s = round(df_lan['MeanCareerSat'][i],2), size = 14, color = 'black')\n",
    "\n",
    "\n",
    "chart3 = sns.barplot(df_lan.index.values, df_lan['EmploymentRate'], palette=clrs, ax=axes[1, 0])\n",
    "chart3.set_xticklabels(chart3.get_xticklabels(), rotation=15);\n",
    "chart3.set_ylabel('0 - 100%')\n",
    "chart3.set_title('Employment Percentage');\n",
    "for i in range(5):\n",
    "    chart3.text(x = np.arange(5)[i]-0.25, y = df_lan['EmploymentRate'][i] - 0.1, s = str(int(round(df_lan['EmploymentRate'][i],2)*100)) + '%', size = 14, color = 'white')\n",
    "\n",
    "chart4 = sns.barplot(df_lan.index.values, df_lan['MeanSalary'], palette=clrs, ax=axes[1, 1])\n",
    "chart4.set_xticklabels(chart4.get_xticklabels(), rotation=15);\n",
    "chart4.set_ylabel('Annual Salary in USD')\n",
    "chart4.set_title('Average Salary');\n",
    "for i in range(5):\n",
    "    chart4.text(x = np.arange(5)[i]-0.25, y = df_lan['MeanSalary'][i] - 10000, s = str(int(round(df_lan['MeanSalary'][i],2)/1000)) + 'K', size = 14, color = 'white')\n",
    "\n",
    "plt.tight_layout()\n",
    "#plt.savefig('plot/q1_1.png', bbox_inches='tight')"
   ]
  },
  {
   "cell_type": "markdown",
   "metadata": {},
   "source": [
    "We see that the job and career satisfactions are pretty similar across the board, so are the employment percentages. Developers with Python experience are, however, the highest paid group. "
   ]
  },
  {
   "cell_type": "markdown",
   "metadata": {},
   "source": [
    "#### 4.2 How do Career Satisfaction and Salary grow with experience? Python vs. General?\n",
    "\n",
    "I create a new dataset for question 2 by:\n",
    "- selecting related columns ('Employment', 'YearsCode', 'CareerSat', 'ConvertedComp', 'LanguageWorkedWith', 'Python')\n",
    "- dropping rows where YearsCode are non-numeric\n",
    "- dropping rows where ConvertedComp and/or YearsCode are null values\n",
    "- dropping rows where ConvertedComp is higher than 500000\n",
    "\n",
    "Additionally, for this analysis I focus on full-time employed developers."
   ]
  },
  {
   "cell_type": "code",
   "execution_count": 853,
   "metadata": {
    "scrolled": true
   },
   "outputs": [
    {
     "data": {
      "text/html": [
       "<div>\n",
       "<style scoped>\n",
       "    .dataframe tbody tr th:only-of-type {\n",
       "        vertical-align: middle;\n",
       "    }\n",
       "\n",
       "    .dataframe tbody tr th {\n",
       "        vertical-align: top;\n",
       "    }\n",
       "\n",
       "    .dataframe thead th {\n",
       "        text-align: right;\n",
       "    }\n",
       "</style>\n",
       "<table border=\"1\" class=\"dataframe\">\n",
       "  <thead>\n",
       "    <tr style=\"text-align: right;\">\n",
       "      <th></th>\n",
       "      <th>Employment</th>\n",
       "      <th>YearsCodePro</th>\n",
       "      <th>CareerSat</th>\n",
       "      <th>ConvertedComp</th>\n",
       "      <th>LanguageWorkedWith</th>\n",
       "      <th>Python</th>\n",
       "    </tr>\n",
       "  </thead>\n",
       "  <tbody>\n",
       "    <tr>\n",
       "      <th>27795</th>\n",
       "      <td>Employed full-time</td>\n",
       "      <td>5.0</td>\n",
       "      <td>1.0</td>\n",
       "      <td>115533.0</td>\n",
       "      <td>Bash/Shell/PowerShell;C;C++;Python;SQL</td>\n",
       "      <td>True</td>\n",
       "    </tr>\n",
       "    <tr>\n",
       "      <th>44929</th>\n",
       "      <td>Employed full-time</td>\n",
       "      <td>10.0</td>\n",
       "      <td>-0.5</td>\n",
       "      <td>81375.0</td>\n",
       "      <td>Bash/Shell/PowerShell;HTML/CSS;JavaScript;PHP;...</td>\n",
       "      <td>False</td>\n",
       "    </tr>\n",
       "    <tr>\n",
       "      <th>21927</th>\n",
       "      <td>Employed full-time</td>\n",
       "      <td>5.0</td>\n",
       "      <td>0.5</td>\n",
       "      <td>100463.0</td>\n",
       "      <td>Bash/Shell/PowerShell;Go;HTML/CSS;Java;JavaScr...</td>\n",
       "      <td>True</td>\n",
       "    </tr>\n",
       "    <tr>\n",
       "      <th>61060</th>\n",
       "      <td>Employed full-time</td>\n",
       "      <td>16.0</td>\n",
       "      <td>0.5</td>\n",
       "      <td>130602.0</td>\n",
       "      <td>HTML/CSS;JavaScript;Scala;SQL</td>\n",
       "      <td>False</td>\n",
       "    </tr>\n",
       "    <tr>\n",
       "      <th>1699</th>\n",
       "      <td>Employed full-time</td>\n",
       "      <td>5.0</td>\n",
       "      <td>0.5</td>\n",
       "      <td>88910.0</td>\n",
       "      <td>HTML/CSS;Java;JavaScript;Kotlin;PHP;Ruby</td>\n",
       "      <td>False</td>\n",
       "    </tr>\n",
       "  </tbody>\n",
       "</table>\n",
       "</div>"
      ],
      "text/plain": [
       "               Employment  YearsCodePro  CareerSat  ConvertedComp  \\\n",
       "27795  Employed full-time           5.0        1.0       115533.0   \n",
       "44929  Employed full-time          10.0       -0.5        81375.0   \n",
       "21927  Employed full-time           5.0        0.5       100463.0   \n",
       "61060  Employed full-time          16.0        0.5       130602.0   \n",
       "1699   Employed full-time           5.0        0.5        88910.0   \n",
       "\n",
       "                                      LanguageWorkedWith Python  \n",
       "27795             Bash/Shell/PowerShell;C;C++;Python;SQL   True  \n",
       "44929  Bash/Shell/PowerShell;HTML/CSS;JavaScript;PHP;...  False  \n",
       "21927  Bash/Shell/PowerShell;Go;HTML/CSS;Java;JavaScr...   True  \n",
       "61060                      HTML/CSS;JavaScript;Scala;SQL  False  \n",
       "1699            HTML/CSS;Java;JavaScript;Kotlin;PHP;Ruby  False  "
      ]
     },
     "execution_count": 853,
     "metadata": {},
     "output_type": "execute_result"
    }
   ],
   "source": [
    "df_q2 = df_s[['Employment','YearsCodePro', 'CareerSat', 'ConvertedComp', 'LanguageWorkedWith', 'Python']]\n",
    "\n",
    "df_q2 = df_q2[~df_q2['YearsCodePro'].isin([\"More than 50 years\"])]\n",
    "df_q2['YearsCodePro'] = df_q2['YearsCodePro'].replace({'Less than 1 year':0})\n",
    "df_q2['YearsCodePro'] = df_q2[\"YearsCodePro\"].astype('float64')\n",
    "\n",
    "df_q2 = df_q2.dropna(subset = ['ConvertedComp','YearsCodePro'])\n",
    "df_q2 = df_q2[df_q2['ConvertedComp'] < 500000]\n",
    "\n",
    "df_q2 = df_q2[df_q2['Employment'] == \"Employed full-time\"]\n",
    "\n",
    "df_q2.sample(5)"
   ]
  },
  {
   "cell_type": "code",
   "execution_count": 873,
   "metadata": {},
   "outputs": [
    {
     "data": {
      "image/png": "[encoded data removed]",
      "text/plain": [
       "<Figure size 1080x432 with 2 Axes>"
      ]
     },
     "metadata": {},
     "output_type": "display_data"
    }
   ],
   "source": [
    "f, axes = plt.subplots(2, 1, figsize=(15, 6))\n",
    "\n",
    "sns.scatterplot(x=df_q2[\"YearsCodePro\"], y=\"ConvertedComp\", data=df_q2, ax=axes[0])\n",
    "sns.scatterplot(x=df_q2[\"YearsCodePro\"], y=\"CareerSat\", data=df_q2, ax=axes[1])\n",
    "plt.tight_layout()"
   ]
  },
  {
   "cell_type": "markdown",
   "metadata": {},
   "source": [
    "Scatterplot of Salary or Career Satisfaciton against Experience **does not** show a clear trend. Therefore I look at the average Salary and Career Satisfaction of developers plotted against experience. "
   ]
  },
  {
   "cell_type": "code",
   "execution_count": 874,
   "metadata": {},
   "outputs": [
    {
     "data": {
      "image/png": "[encoded data removed]",
      "text/plain": [
       "<Figure size 1080x432 with 2 Axes>"
      ]
     },
     "metadata": {},
     "output_type": "display_data"
    }
   ],
   "source": [
    "df_temp = df_q2.groupby('YearsCodePro').mean()\n",
    "\n",
    "f, axes = plt.subplots(2, 1, figsize=(15, 6))\n",
    "sns.lineplot(x=df_temp.index, y=\"ConvertedComp\", data=df_temp, ax=axes[0])\n",
    "sns.lineplot(x=df_temp.index, y=\"CareerSat\", data=df_temp, ax=axes[1])\n",
    "plt.tight_layout()"
   ]
  },
  {
   "cell_type": "code",
   "execution_count": 856,
   "metadata": {},
   "outputs": [
    {
     "data": {
      "text/plain": [
       "0.956140350877193"
      ]
     },
     "execution_count": 856,
     "metadata": {},
     "output_type": "execute_result"
    }
   ],
   "source": [
    "df_q2[df_q2['YearsCodePro'] < 21].shape[0]/df_q2.shape[0]"
   ]
  },
  {
   "cell_type": "markdown",
   "metadata": {},
   "source": [
    "We see that after 20 years the data seem to be noisy. Since the majority (95%) of the data are from developers within 20 years of experience. We can plot again with range limited to 20 years. "
   ]
  },
  {
   "cell_type": "code",
   "execution_count": 1012,
   "metadata": {
    "scrolled": false
   },
   "outputs": [
    {
     "name": "stderr",
     "output_type": "stream",
     "text": [
      "/Users/alex/anaconda3/lib/python3.6/site-packages/ipykernel_launcher.py:2: UserWarning: Boolean Series key will be reindexed to match DataFrame index.\n",
      "  \n"
     ]
    },
    {
     "data": {
      "image/png": "[encoded data removed]",
      "text/plain": [
       "<Figure size 864x432 with 2 Axes>"
      ]
     },
     "metadata": {},
     "output_type": "display_data"
    }
   ],
   "source": [
    "df_temp = df_q2[df_q2['YearsCodePro'] < 21].groupby('YearsCodePro').mean()\n",
    "df_temp2 = df_q2[df_q2['YearsCodePro'] < 21][df_q2['Python'] == True].groupby('YearsCodePro').mean()\n",
    "\n",
    "f, axes = plt.subplots(1, 2, figsize=(12, 6));\n",
    "chart1 = sns.lineplot(x=df_temp.index, y=\"ConvertedComp\", data=df_temp, ax=axes[0]);\n",
    "sns.lineplot(x=df_temp2.index, y=\"ConvertedComp\", data=df_temp2, ax=axes[0]);\n",
    "chart1.legend(['General','Python']);\n",
    "chart1.set(xlim=(0,20));\n",
    "chart1.set_ylabel('Average Annual Compensaiton in USD')\n",
    "chart1.set_xlabel('Year(s) of Professional Coding Experience')\n",
    "chart1.set_title('Compensation vs. Experience');\n",
    "\n",
    "chart2 = sns.lineplot(x=df_temp.index, y=\"CareerSat\", data=df_temp, ax=axes[1]);\n",
    "sns.lineplot(x=df_temp2.index, y=\"CareerSat\", data=df_temp2, ax=axes[1]);\n",
    "chart2.legend(['General','Python']);\n",
    "chart2.set(xlim=(0,20));\n",
    "chart2.set(ylim=(-1,1));\n",
    "chart2.set_ylabel('Career Satisfaction (Scale: -1 to 1)')\n",
    "chart2.set_xlabel('Year(s) of Professional Coding Experience')\n",
    "chart2.set_title('Career Satisfaction vs. Experience');\n",
    "\n",
    "plt.tight_layout()\n",
    "#plt.savefig('plot/q2_1.png', bbox_inches='tight')"
   ]
  },
  {
   "cell_type": "markdown",
   "metadata": {},
   "source": [
    "We see here that the Career Satisfaction does not seem to have a linear relationship with the coding experience. \n",
    "\n",
    "We see that compensation, as expected, seems to have a linear relationship with the coding experience, i.e. the more experienced, the better paid. We can use a little bit of machine learning here and find a linear fit. Note that there is an outliner at 19 years for Python. To get a more accurate linear fit for the data before, I limit again the range, this time to 15 year, which still covers 89% of the original data."
   ]
  },
  {
   "cell_type": "code",
   "execution_count": 858,
   "metadata": {},
   "outputs": [
    {
     "data": {
      "text/plain": [
       "0.8903508771929824"
      ]
     },
     "execution_count": 858,
     "metadata": {},
     "output_type": "execute_result"
    }
   ],
   "source": [
    "df_q2[df_q2['YearsCodePro'] < 16].shape[0]/df_q2.shape[0]"
   ]
  },
  {
   "cell_type": "code",
   "execution_count": 859,
   "metadata": {},
   "outputs": [
    {
     "name": "stdout",
     "output_type": "stream",
     "text": [
      "[4860.11966971]\n",
      "[59192.77915292]\n",
      "0.19090387197957015\n",
      "1714408728.7731612\n"
     ]
    }
   ],
   "source": [
    "X = df_q2[df_q2['YearsCodePro'] < 16][['YearsCodePro']]\n",
    "y = df_q2[df_q2['YearsCodePro'] < 16][['ConvertedComp']]\n",
    "\n",
    "X_train, X_test, y_train, y_test = train_test_split(X, y, test_size = .70)\n",
    "\n",
    "lm_model_g = LinearRegression(normalize=True)\n",
    "lm_model_g.fit(X, y)\n",
    "        \n",
    "y_test_preds = lm_model_g.predict(X_test)\n",
    "\n",
    "print(lm_model_g.coef_[0])\n",
    "print(lm_model_g.intercept_)\n",
    "print(r2_score(y_test, y_test_preds)) \n",
    "print(mean_squared_error(y_test, y_test_preds)) "
   ]
  },
  {
   "cell_type": "code",
   "execution_count": 860,
   "metadata": {},
   "outputs": [
    {
     "name": "stdout",
     "output_type": "stream",
     "text": [
      "[5109.97524841]\n",
      "[63087.5962728]\n",
      "0.13694450012299164\n",
      "1733184399.7840555\n"
     ]
    },
    {
     "name": "stderr",
     "output_type": "stream",
     "text": [
      "/Users/alex/anaconda3/lib/python3.6/site-packages/ipykernel_launcher.py:1: UserWarning: Boolean Series key will be reindexed to match DataFrame index.\n",
      "  \"\"\"Entry point for launching an IPython kernel.\n",
      "/Users/alex/anaconda3/lib/python3.6/site-packages/ipykernel_launcher.py:2: UserWarning: Boolean Series key will be reindexed to match DataFrame index.\n",
      "  \n"
     ]
    }
   ],
   "source": [
    "X = df_q2[df_q2['YearsCodePro'] < 16][df_q2['Python'] == True][['YearsCodePro']]\n",
    "y = df_q2[df_q2['YearsCodePro'] < 16][df_q2['Python'] == True][['ConvertedComp']]\n",
    "\n",
    "X_train, X_test, y_train, y_test = train_test_split(X, y, test_size = .70)\n",
    "\n",
    "lm_model_p = LinearRegression(normalize=True)\n",
    "lm_model_p.fit(X, y)\n",
    "        \n",
    "y_test_preds = lm_model_p.predict(X_test)\n",
    "\n",
    "print(lm_model_p.coef_[0])\n",
    "print(lm_model_p.intercept_)\n",
    "print(r2_score(y_test, y_test_preds)) \n",
    "print(mean_squared_error(y_test, y_test_preds)) "
   ]
  },
  {
   "cell_type": "code",
   "execution_count": 1011,
   "metadata": {},
   "outputs": [
    {
     "data": {
      "image/png": "[encoded data removed]",
      "text/plain": [
       "<Figure size 864x432 with 2 Axes>"
      ]
     },
     "metadata": {},
     "output_type": "display_data"
    }
   ],
   "source": [
    "f, axes = plt.subplots(1, 2, figsize=(12, 6));\n",
    "\n",
    "chart3 = sns.lineplot(x=df_temp.index, y=\"ConvertedComp\", data=df_temp, ax = axes[0]);\n",
    "chart4 = sns.lineplot(x=df_temp2.index, y=\"ConvertedComp\", data=df_temp2, ax = axes[1]);\n",
    "\n",
    "x_vals = np.array(axes[0].get_xlim())\n",
    "y_vals = lm_model_g.intercept_ + lm_model_g.coef_[0] * x_vals\n",
    "sns.lineplot(x=x_vals, y=y_vals, ax = axes[0]);\n",
    "y_vals = lm_model_p.intercept_ + lm_model_p.coef_[0] * x_vals\n",
    "sns.lineplot(x=x_vals, y=y_vals, ax = axes[1]);\n",
    "\n",
    "chart3.legend(['General', 'Linear_fit: y = 4860*X + 59193']);\n",
    "chart3.set(xlim=(0,20));\n",
    "chart3.set(ylim=(50000,250000));\n",
    "chart3.set_ylabel('Average Annual Compensaiton in USD')\n",
    "chart3.set_xlabel('Year(s) of Professional Coding Experience')\n",
    "chart3.set_title('General');\n",
    "\n",
    "chart4.legend(['Python', 'Linear_fit: y = 5110*X + 63088']);\n",
    "chart4.set(xlim=(0,20));\n",
    "chart4.set(ylim=(50000,250000));\n",
    "chart4.set_ylabel('Average Annual Compensaiton in USD')\n",
    "chart4.set_xlabel('Year(s) of Professional Coding Experience')\n",
    "chart4.set_title('Python');\n",
    "\n",
    "plt.tight_layout()\n",
    "#plt.savefig('plot/q2_2.png', bbox_inches='tight')"
   ]
  },
  {
   "cell_type": "markdown",
   "metadata": {},
   "source": [
    "According to the linear fits, the average starting salary of a developer is around **59000CHF** and grows **4860CHF** with each year of professional coding experience. The average starting compensation of a developer with Python experience is around **63000CHF** and grows **5110CHF** with each year of professional coding experience."
   ]
  },
  {
   "cell_type": "markdown",
   "metadata": {},
   "source": [
    "#### 4.3 How do Career Satisfaction and Salary of python developers in Switzerland compare to those in Germany, UK, US?"
   ]
  },
  {
   "cell_type": "code",
   "execution_count": 862,
   "metadata": {
    "scrolled": true
   },
   "outputs": [
    {
     "data": {
      "text/html": [
       "<div>\n",
       "<style scoped>\n",
       "    .dataframe tbody tr th:only-of-type {\n",
       "        vertical-align: middle;\n",
       "    }\n",
       "\n",
       "    .dataframe tbody tr th {\n",
       "        vertical-align: top;\n",
       "    }\n",
       "\n",
       "    .dataframe thead th {\n",
       "        text-align: right;\n",
       "    }\n",
       "</style>\n",
       "<table border=\"1\" class=\"dataframe\">\n",
       "  <thead>\n",
       "    <tr style=\"text-align: right;\">\n",
       "      <th></th>\n",
       "      <th>Employment</th>\n",
       "      <th>Country</th>\n",
       "      <th>JobSat</th>\n",
       "      <th>YearsCodePro</th>\n",
       "      <th>LanguageWorkedWith</th>\n",
       "      <th>ConvertedComp</th>\n",
       "    </tr>\n",
       "  </thead>\n",
       "  <tbody>\n",
       "    <tr>\n",
       "      <th>3</th>\n",
       "      <td>Employed full-time</td>\n",
       "      <td>United States</td>\n",
       "      <td>0.5</td>\n",
       "      <td>Less than 1 year</td>\n",
       "      <td>C;C++;C#;Python;SQL</td>\n",
       "      <td>61000.0</td>\n",
       "    </tr>\n",
       "    <tr>\n",
       "      <th>21</th>\n",
       "      <td>Employed full-time</td>\n",
       "      <td>United States</td>\n",
       "      <td>-1.0</td>\n",
       "      <td>18</td>\n",
       "      <td>Bash/Shell/PowerShell;C++;HTML/CSS;JavaScript;...</td>\n",
       "      <td>103000.0</td>\n",
       "    </tr>\n",
       "    <tr>\n",
       "      <th>22</th>\n",
       "      <td>Employed full-time</td>\n",
       "      <td>United States</td>\n",
       "      <td>0.5</td>\n",
       "      <td>1</td>\n",
       "      <td>Bash/Shell/PowerShell;HTML/CSS;JavaScript;Pyth...</td>\n",
       "      <td>69000.0</td>\n",
       "    </tr>\n",
       "    <tr>\n",
       "      <th>25</th>\n",
       "      <td>Employed full-time</td>\n",
       "      <td>United States</td>\n",
       "      <td>1.0</td>\n",
       "      <td>8</td>\n",
       "      <td>Bash/Shell/PowerShell;C++;C#;HTML/CSS;JavaScri...</td>\n",
       "      <td>114000.0</td>\n",
       "    </tr>\n",
       "    <tr>\n",
       "      <th>31</th>\n",
       "      <td>Employed full-time</td>\n",
       "      <td>United States</td>\n",
       "      <td>0.5</td>\n",
       "      <td>2</td>\n",
       "      <td>Bash/Shell/PowerShell;HTML/CSS;JavaScript;PHP;...</td>\n",
       "      <td>1100000.0</td>\n",
       "    </tr>\n",
       "  </tbody>\n",
       "</table>\n",
       "</div>"
      ],
      "text/plain": [
       "            Employment        Country  JobSat      YearsCodePro  \\\n",
       "3   Employed full-time  United States     0.5  Less than 1 year   \n",
       "21  Employed full-time  United States    -1.0                18   \n",
       "22  Employed full-time  United States     0.5                 1   \n",
       "25  Employed full-time  United States     1.0                 8   \n",
       "31  Employed full-time  United States     0.5                 2   \n",
       "\n",
       "                                   LanguageWorkedWith  ConvertedComp  \n",
       "3                                 C;C++;C#;Python;SQL        61000.0  \n",
       "21  Bash/Shell/PowerShell;C++;HTML/CSS;JavaScript;...       103000.0  \n",
       "22  Bash/Shell/PowerShell;HTML/CSS;JavaScript;Pyth...        69000.0  \n",
       "25  Bash/Shell/PowerShell;C++;C#;HTML/CSS;JavaScri...       114000.0  \n",
       "31  Bash/Shell/PowerShell;HTML/CSS;JavaScript;PHP;...      1100000.0  "
      ]
     },
     "execution_count": 862,
     "metadata": {},
     "output_type": "execute_result"
    }
   ],
   "source": [
    "df_q3.head()"
   ]
  },
  {
   "cell_type": "markdown",
   "metadata": {},
   "source": [
    "Here I further clean the dataset by:\n",
    "\n",
    "\"ConvertedComp\":\n",
    "- Removing values over 500000\n",
    "\n",
    "\"YearsCodePro\":\n",
    "- replacing \"Less than 1 year\" with 0\n",
    "- removing rows with \"More than 50 years\""
   ]
  },
  {
   "cell_type": "code",
   "execution_count": 863,
   "metadata": {},
   "outputs": [],
   "source": [
    "df_q3 = df_q3[df_q3['ConvertedComp'] < 500000]\n",
    "\n",
    "df_q3['YearsCodePro'] = df_q3['YearsCodePro'].replace({'Less than 1 year':0})\n",
    "df_q3 = df_q3[~df_q3['YearsCodePro'].isin([\"More than 50 years\"])]\n",
    "df_q3['YearsCodePro'] = df_q3['YearsCodePro'].astype('float64')"
   ]
  },
  {
   "cell_type": "code",
   "execution_count": 864,
   "metadata": {
    "scrolled": true
   },
   "outputs": [
    {
     "data": {
      "text/html": [
       "<div>\n",
       "<style scoped>\n",
       "    .dataframe tbody tr th:only-of-type {\n",
       "        vertical-align: middle;\n",
       "    }\n",
       "\n",
       "    .dataframe tbody tr th {\n",
       "        vertical-align: top;\n",
       "    }\n",
       "\n",
       "    .dataframe thead th {\n",
       "        text-align: right;\n",
       "    }\n",
       "</style>\n",
       "<table border=\"1\" class=\"dataframe\">\n",
       "  <thead>\n",
       "    <tr style=\"text-align: right;\">\n",
       "      <th></th>\n",
       "      <th>JobSat</th>\n",
       "      <th>YearsCodePro</th>\n",
       "      <th>ConvertedComp</th>\n",
       "    </tr>\n",
       "    <tr>\n",
       "      <th>Country</th>\n",
       "      <th></th>\n",
       "      <th></th>\n",
       "      <th></th>\n",
       "    </tr>\n",
       "  </thead>\n",
       "  <tbody>\n",
       "    <tr>\n",
       "      <th>Germany</th>\n",
       "      <td>0.375986</td>\n",
       "      <td>7.538596</td>\n",
       "      <td>67021.457493</td>\n",
       "    </tr>\n",
       "    <tr>\n",
       "      <th>Switzerland</th>\n",
       "      <td>0.315068</td>\n",
       "      <td>7.712329</td>\n",
       "      <td>100147.223744</td>\n",
       "    </tr>\n",
       "    <tr>\n",
       "      <th>United Kingdom</th>\n",
       "      <td>0.401274</td>\n",
       "      <td>8.524380</td>\n",
       "      <td>82012.765924</td>\n",
       "    </tr>\n",
       "    <tr>\n",
       "      <th>United States</th>\n",
       "      <td>0.455488</td>\n",
       "      <td>8.668633</td>\n",
       "      <td>123010.576637</td>\n",
       "    </tr>\n",
       "  </tbody>\n",
       "</table>\n",
       "</div>"
      ],
      "text/plain": [
       "                  JobSat  YearsCodePro  ConvertedComp\n",
       "Country                                              \n",
       "Germany         0.375986      7.538596   67021.457493\n",
       "Switzerland     0.315068      7.712329  100147.223744\n",
       "United Kingdom  0.401274      8.524380   82012.765924\n",
       "United States   0.455488      8.668633  123010.576637"
      ]
     },
     "execution_count": 864,
     "metadata": {},
     "output_type": "execute_result"
    }
   ],
   "source": [
    "df_country = df_q3.groupby('Country').mean()\n",
    "df_country"
   ]
  },
  {
   "cell_type": "code",
   "execution_count": 1009,
   "metadata": {},
   "outputs": [
    {
     "data": {
      "image/png": "[encoded data removed]",
      "text/plain": [
       "<Figure size 864x432 with 2 Axes>"
      ]
     },
     "metadata": {},
     "output_type": "display_data"
    }
   ],
   "source": [
    "clrs2 = ['red' if (x == 'Switzerland') else 'grey' for x in df_country.index.values]\n",
    "\n",
    "f, axes = plt.subplots(1, 2, figsize=(12, 6))\n",
    "\n",
    "chart1 = sns.barplot(df_country.index.values, df_country['JobSat'], palette=clrs2, ax=axes[0])\n",
    "chart1.set_xticklabels(chart1.get_xticklabels(), rotation=15);\n",
    "chart1.set_ylabel('Very Satisfied = 1, Very Unsatisfied = -1')\n",
    "chart1.set_title('Job Satisfaction')\n",
    "chart1.set(ylim=(-1, 1))\n",
    "axes[0].axhline(0, color = 'black')\n",
    "for i in range(4):\n",
    "    chart1.text(x = np.arange(4)[i]-0.2, y = df_country['JobSat'][i] + 0.02, s = round(df_country['JobSat'][i],2), size = 14, color = 'black')\n",
    "\n",
    "chart2 = sns.barplot(df_country.index.values, df_country['ConvertedComp'], palette=clrs2, ax=axes[1])\n",
    "chart2.set_xticklabels(chart2.get_xticklabels(), rotation=15);\n",
    "chart2.set_ylabel('Annual Compensation in USD')\n",
    "chart2.set_title('Converted Compensation')\n",
    "for i in range(4):\n",
    "    chart2.text(x = np.arange(4)[i]-0.2, y = df_country['ConvertedComp'][i] - 5000, s = str(int(round(df_country['ConvertedComp'][i],2)/1000)) + 'K', size = 14, color = 'white')\n",
    "\n",
    "plt.tight_layout()\n",
    "#plt.savefig('plot/q3_1.png', bbox_inches='tight')"
   ]
  },
  {
   "cell_type": "markdown",
   "metadata": {},
   "source": [
    "Above we see that Job Satisfaction is lowest in Switzerland comparing to other countries, whereas the average compensation is the 2nd highest, with the 1st being the United States. \n",
    "\n",
    "We can also break this down by years of experience into Junior (0-2 years), Mid-Level (2-4 years), Senior (4-8 years), Fellow (8+ years)."
   ]
  },
  {
   "cell_type": "code",
   "execution_count": 944,
   "metadata": {
    "scrolled": true
   },
   "outputs": [],
   "source": [
    "country_list = ['Germany','Switzerland','United States','United Kingdom']\n",
    "level_list = ['Junior \\n (0-2 Years)','Mid-Level \\n (2-4 Years)','Senior \\n (4-8 Years)','Fellow \\n (8+ Years)']\n",
    "comp_columns = ['Junior_Comp','Mid_Comp','Senior_Comp','Fellow_Comp']\n",
    "sat_columns = ['Junior_Sat', 'Mid_Sat', 'Senior_Sat', 'Fellow_Sat']\n",
    "\n",
    "df_comp = pd.DataFrame(index = country_list, columns=comp_columns)\n",
    "df_sat = pd.DataFrame(index = country_list, columns=sat_columns)"
   ]
  },
  {
   "cell_type": "code",
   "execution_count": 945,
   "metadata": {
    "scrolled": false
   },
   "outputs": [
    {
     "data": {
      "text/html": [
       "<div>\n",
       "<style scoped>\n",
       "    .dataframe tbody tr th:only-of-type {\n",
       "        vertical-align: middle;\n",
       "    }\n",
       "\n",
       "    .dataframe tbody tr th {\n",
       "        vertical-align: top;\n",
       "    }\n",
       "\n",
       "    .dataframe thead th {\n",
       "        text-align: right;\n",
       "    }\n",
       "</style>\n",
       "<table border=\"1\" class=\"dataframe\">\n",
       "  <thead>\n",
       "    <tr style=\"text-align: right;\">\n",
       "      <th></th>\n",
       "      <th>Germany</th>\n",
       "      <th>Switzerland</th>\n",
       "      <th>United States</th>\n",
       "      <th>United Kingdom</th>\n",
       "    </tr>\n",
       "  </thead>\n",
       "  <tbody>\n",
       "    <tr>\n",
       "      <th>Junior_Comp</th>\n",
       "      <td>49394.2</td>\n",
       "      <td>69171.6</td>\n",
       "      <td>87402.8</td>\n",
       "      <td>70197.6</td>\n",
       "    </tr>\n",
       "    <tr>\n",
       "      <th>Mid_Comp</th>\n",
       "      <td>56719.6</td>\n",
       "      <td>76926.2</td>\n",
       "      <td>105977</td>\n",
       "      <td>73898.2</td>\n",
       "    </tr>\n",
       "    <tr>\n",
       "      <th>Senior_Comp</th>\n",
       "      <td>65782.1</td>\n",
       "      <td>98494.7</td>\n",
       "      <td>124757</td>\n",
       "      <td>85396.2</td>\n",
       "    </tr>\n",
       "    <tr>\n",
       "      <th>Fellow_Comp</th>\n",
       "      <td>85083.1</td>\n",
       "      <td>128836</td>\n",
       "      <td>151452</td>\n",
       "      <td>91635.5</td>\n",
       "    </tr>\n",
       "  </tbody>\n",
       "</table>\n",
       "</div>"
      ],
      "text/plain": [
       "             Germany Switzerland United States United Kingdom\n",
       "Junior_Comp  49394.2     69171.6       87402.8        70197.6\n",
       "Mid_Comp     56719.6     76926.2        105977        73898.2\n",
       "Senior_Comp  65782.1     98494.7        124757        85396.2\n",
       "Fellow_Comp  85083.1      128836        151452        91635.5"
      ]
     },
     "execution_count": 945,
     "metadata": {},
     "output_type": "execute_result"
    }
   ],
   "source": [
    "for index, row in df_comp.iterrows():\n",
    "    df_temp = df_q3[df_q3['Country'] == index]\n",
    "    row['Junior_Comp'] = df_temp[df_temp['YearsCodePro']<3]['ConvertedComp'].mean()\n",
    "    row['Mid_Comp'] = df_temp[(df_temp['YearsCodePro']>2) & (df_temp['YearsCodePro']<5)]['ConvertedComp'].mean()\n",
    "    row['Senior_Comp'] = df_temp[(df_temp['YearsCodePro']>4) & (df_temp['YearsCodePro']<9)]['ConvertedComp'].mean()\n",
    "    row['Fellow_Comp'] = df_temp[df_temp['YearsCodePro']>9]['ConvertedComp'].mean()\n",
    "    \n",
    "df_comp = df_comp.transpose()\n",
    "df_comp"
   ]
  },
  {
   "cell_type": "code",
   "execution_count": 946,
   "metadata": {
    "scrolled": true
   },
   "outputs": [
    {
     "data": {
      "text/html": [
       "<div>\n",
       "<style scoped>\n",
       "    .dataframe tbody tr th:only-of-type {\n",
       "        vertical-align: middle;\n",
       "    }\n",
       "\n",
       "    .dataframe tbody tr th {\n",
       "        vertical-align: top;\n",
       "    }\n",
       "\n",
       "    .dataframe thead th {\n",
       "        text-align: right;\n",
       "    }\n",
       "</style>\n",
       "<table border=\"1\" class=\"dataframe\">\n",
       "  <thead>\n",
       "    <tr style=\"text-align: right;\">\n",
       "      <th></th>\n",
       "      <th>Germany</th>\n",
       "      <th>Switzerland</th>\n",
       "      <th>United States</th>\n",
       "      <th>United Kingdom</th>\n",
       "    </tr>\n",
       "  </thead>\n",
       "  <tbody>\n",
       "    <tr>\n",
       "      <th>Junior_Sat</th>\n",
       "      <td>0.41623</td>\n",
       "      <td>0.483333</td>\n",
       "      <td>0.493209</td>\n",
       "      <td>0.485714</td>\n",
       "    </tr>\n",
       "    <tr>\n",
       "      <th>Mid_Sat</th>\n",
       "      <td>0.354626</td>\n",
       "      <td>0.263158</td>\n",
       "      <td>0.437389</td>\n",
       "      <td>0.435622</td>\n",
       "    </tr>\n",
       "    <tr>\n",
       "      <th>Senior_Sat</th>\n",
       "      <td>0.336705</td>\n",
       "      <td>0.289474</td>\n",
       "      <td>0.464521</td>\n",
       "      <td>0.417883</td>\n",
       "    </tr>\n",
       "    <tr>\n",
       "      <th>Fellow_Sat</th>\n",
       "      <td>0.406542</td>\n",
       "      <td>0.261538</td>\n",
       "      <td>0.441402</td>\n",
       "      <td>0.311765</td>\n",
       "    </tr>\n",
       "  </tbody>\n",
       "</table>\n",
       "</div>"
      ],
      "text/plain": [
       "             Germany Switzerland United States United Kingdom\n",
       "Junior_Sat   0.41623    0.483333      0.493209       0.485714\n",
       "Mid_Sat     0.354626    0.263158      0.437389       0.435622\n",
       "Senior_Sat  0.336705    0.289474      0.464521       0.417883\n",
       "Fellow_Sat  0.406542    0.261538      0.441402       0.311765"
      ]
     },
     "execution_count": 946,
     "metadata": {},
     "output_type": "execute_result"
    }
   ],
   "source": [
    "for index, row in df_sat.iterrows():\n",
    "    df_temp = df_q3[df_q3['Country'] == index]\n",
    "    row['Junior_Sat'] = df_temp[df_temp['YearsCodePro']<3]['JobSat'].mean()\n",
    "    row['Mid_Sat'] = df_temp[(df_temp['YearsCodePro']>2) & (df_temp['YearsCodePro']<5)]['JobSat'].mean()\n",
    "    row['Senior_Sat'] = df_temp[(df_temp['YearsCodePro']>4) & (df_temp['YearsCodePro']<9)]['JobSat'].mean()\n",
    "    row['Fellow_Sat'] = df_temp[df_temp['YearsCodePro']>9]['JobSat'].mean()\n",
    "    \n",
    "df_sat = df_sat.transpose()\n",
    "df_sat"
   ]
  },
  {
   "cell_type": "code",
   "execution_count": 1010,
   "metadata": {},
   "outputs": [
    {
     "data": {
      "image/png": "[encoded data removed]",
      "text/plain": [
       "<Figure size 1080x432 with 2 Axes>"
      ]
     },
     "metadata": {},
     "output_type": "display_data"
    }
   ],
   "source": [
    "f, axes = plt.subplots(1, 2, figsize=(15, 6))\n",
    "\n",
    "chart1 = df_comp.plot(kind='bar', ax = axes[0])\n",
    "chart1.set_xticklabels(level_list, rotation=0);\n",
    "chart1.legend(loc='upper center', bbox_to_anchor=(0.5, 0.98),\n",
    "          ncol=2, shadow=True, fancybox=True);\n",
    "chart1.set_ylim(0, 200000);\n",
    "chart1.set_ylabel('Average Annual Compensaiton in USD')\n",
    "chart1.set_title('Compensation vs. Experience');\n",
    "\n",
    "chart2 = df_sat.plot(kind = 'bar', ax = axes[1])\n",
    "chart2.set_xticklabels(level_list, rotation=0);\n",
    "chart2.legend(loc='upper center', bbox_to_anchor=(0.5, 0.98),\n",
    "          ncol=2, shadow=True, fancybox=True)\n",
    "chart2.set(ylim = ((-1,1.0)));\n",
    "chart2.axhline(0, color = 'black')\n",
    "chart2.set_ylabel('Job Satisfaction (Scale: -1 to 1)')\n",
    "chart2.set_title('Job Satisfaction vs. Experience');\n",
    "\n",
    "plt.tight_layout()\n",
    "#plt.savefig('plot/q3_2.png', bbox_inches='tight')"
   ]
  },
  {
   "cell_type": "markdown",
   "metadata": {},
   "source": [
    "## 5. Conclusion\n",
    "\n",
    "- Career in Switzerland:\n",
    "    - **1. Language**: Is Python a good language to start with as a developer? Answer in terms of Employment, Job Satisfaction, Career Satisfaction and Salary. How does it compare to other popular languages (Javascript, HTML/CSS, SQL, Java)?\n",
    "    \n",
    "    **Answer:** In Switzerland, the employment rate of a developer with extensive Python experience is **92%**. Out of the employed developers, **76%** percent are employed full-time and **17%** are employed part-time. We see that the average Job Satisfaction is **0.365**, roughly corresponding to \"Slightly satisfied\". The average Career Satisfaction is **0.527**, corresponding to \"Slightly satisfied\". **11%** of the respondants are unsatisfied with their career and **18%** are unsatiesfied with their jobs. Job and career satisfactions are similar compared to developers with experience in other popular languages, so are the employment percentages. Developers with Python experience are  the highest paid group, with average annual compensation of **100K** USD.\n",
    "    \n",
    "    - **2. Growth**: How do Career Satisfaction and Salary grow with experience? Python vs. General?\n",
    "    \n",
    "    **Answer:** According to the linear models, the starting salary of a software developer in general is around **59000CHF** and grows **4860CHF** with each years of experience. The starting compensation of a developer with Python experience is around **63000CHF** and grows **5110CHF** with each years of experience.\n",
    "    \n",
    "- Career in Switzerland vs. in Germany, UK, US: \n",
    "    - **3. Country**: How do Job Satisfaction and Salary of python developers in Switzerland compare to those in Germany, UK, US?\n",
    "    \n",
    "    **Answer:** We see that Job Satisfaction is lowest in Switzerland comparing to other countries except for junior developers. The average compensation in Switzerland is the 2nd highest among the popular countries."
   ]
  }
 ],
 "metadata": {
  "kernelspec": {
   "display_name": "Python 3",
   "language": "python",
   "name": "python3"
  },
  "language_info": {
   "codemirror_mode": {
    "name": "ipython",
    "version": 3
   },
   "file_extension": ".py",
   "mimetype": "text/x-python",
   "name": "python",
   "nbconvert_exporter": "python",
   "pygments_lexer": "ipython3",
   "version": "3.6.4"
  }
 },
 "nbformat": 4,
 "nbformat_minor": 2
}
